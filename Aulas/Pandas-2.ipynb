{
 "cells": [
  {
   "cell_type": "markdown",
   "id": "limited-style",
   "metadata": {},
   "source": [
    "Base para a aula\n",
    "https://www.kaggle.com/datasets/victorsoeiro/netflix-tv-shows-and-movies?resource=download"
   ]
  },
  {
   "cell_type": "code",
   "execution_count": null,
   "id": "personalized-alfred",
   "metadata": {
    "execution": {
     "iopub.execute_input": "2022-07-01T19:19:00.889112Z",
     "iopub.status.busy": "2022-07-01T19:19:00.888312Z",
     "iopub.status.idle": "2022-07-01T19:19:02.204782Z",
     "shell.execute_reply": "2022-07-01T19:19:02.203665Z",
     "shell.execute_reply.started": "2022-07-01T19:19:00.888959Z"
    }
   },
   "outputs": [],
   "source": [
    "#Importando pandas\n",
    "import pandas as pd\n",
    "import numpy as np "
   ]
  },
  {
   "cell_type": "code",
   "execution_count": null,
   "id": "refined-values",
   "metadata": {
    "execution": {
     "iopub.execute_input": "2022-07-01T19:36:31.117031Z",
     "iopub.status.busy": "2022-07-01T19:36:31.116701Z",
     "iopub.status.idle": "2022-07-01T19:36:31.123122Z",
     "shell.execute_reply": "2022-07-01T19:36:31.121598Z",
     "shell.execute_reply.started": "2022-07-01T19:36:31.117000Z"
    },
    "tags": []
   },
   "outputs": [],
   "source": []
  },
  {
   "cell_type": "code",
   "execution_count": null,
   "id": "narrative-nudist",
   "metadata": {
    "execution": {
     "iopub.execute_input": "2022-07-01T20:16:02.489376Z",
     "iopub.status.busy": "2022-07-01T20:16:02.488963Z",
     "iopub.status.idle": "2022-07-01T20:16:02.602319Z",
     "shell.execute_reply": "2022-07-01T20:16:02.598790Z",
     "shell.execute_reply.started": "2022-07-01T20:16:02.489315Z"
    },
    "tags": []
   },
   "outputs": [],
   "source": [
    "#reading the data\n",
    "df_1 = pd.read_csv(r'C:\\Users\\Guilerme\\Repositórios de códigos\\repo-pessoal-topcoders\\Aulas\\dados\\titles.csv')"
   ]
  },
  {
   "cell_type": "code",
   "execution_count": null,
   "id": "lyric-sunglasses",
   "metadata": {
    "execution": {
     "iopub.execute_input": "2022-07-01T19:47:58.044431Z",
     "iopub.status.busy": "2022-07-01T19:47:58.043979Z",
     "iopub.status.idle": "2022-07-01T19:47:58.067897Z",
     "shell.execute_reply": "2022-07-01T19:47:58.066962Z",
     "shell.execute_reply.started": "2022-07-01T19:47:58.044394Z"
    },
    "tags": []
   },
   "outputs": [],
   "source": [
    "df_1.info()"
   ]
  },
  {
   "cell_type": "code",
   "execution_count": null,
   "id": "fuzzy-galaxy",
   "metadata": {
    "execution": {
     "iopub.execute_input": "2022-07-01T19:38:52.774959Z",
     "iopub.status.busy": "2022-07-01T19:38:52.774637Z",
     "iopub.status.idle": "2022-07-01T19:38:52.808303Z",
     "shell.execute_reply": "2022-07-01T19:38:52.806447Z",
     "shell.execute_reply.started": "2022-07-01T19:38:52.774930Z"
    },
    "tags": []
   },
   "outputs": [],
   "source": [
    "df_1"
   ]
  },
  {
   "cell_type": "code",
   "execution_count": null,
   "id": "heated-maldives",
   "metadata": {
    "execution": {
     "iopub.execute_input": "2022-07-01T19:39:09.196519Z",
     "iopub.status.busy": "2022-07-01T19:39:09.196192Z",
     "iopub.status.idle": "2022-07-01T19:39:09.237016Z",
     "shell.execute_reply": "2022-07-01T19:39:09.229329Z",
     "shell.execute_reply.started": "2022-07-01T19:39:09.196489Z"
    },
    "tags": []
   },
   "outputs": [],
   "source": [
    "#nlargest - function toget the biggest elements of a colum\n",
    "df_1.nlargest(10, 'imdb_score')"
   ]
  },
  {
   "cell_type": "code",
   "execution_count": null,
   "id": "bottom-amazon",
   "metadata": {},
   "outputs": [],
   "source": [
    "#df.select_dtypes - function to get all column of a dtype\n",
    "df_1.select_dtypes(include = 'number')"
   ]
  },
  {
   "cell_type": "code",
   "execution_count": null,
   "id": "directed-subcommittee",
   "metadata": {
    "execution": {
     "iopub.execute_input": "2022-07-01T19:50:03.939881Z",
     "iopub.status.busy": "2022-07-01T19:50:03.939553Z",
     "iopub.status.idle": "2022-07-01T19:50:03.953798Z",
     "shell.execute_reply": "2022-07-01T19:50:03.951120Z",
     "shell.execute_reply.started": "2022-07-01T19:50:03.939851Z"
    },
    "tags": []
   },
   "outputs": [],
   "source": [
    "#create one extra column with data \n",
    "df_1['score_cut'] = df_1['imdb_score'].apply(lambda x:'Maior que 5' if x>=5 else 'Menor que 5')\n",
    "df_1['delta_scores'] = df_1['imdb_score'] - df_1['tmdb_score']\n",
    "df_1['check_score'] = df_1['delta_scores'].apply(lambda x:'Check' if x>=0.5 else 'Trust')"
   ]
  },
  {
   "cell_type": "code",
   "execution_count": null,
   "id": "numerical-update",
   "metadata": {
    "execution": {
     "iopub.execute_input": "2022-07-01T19:50:05.621997Z",
     "iopub.status.busy": "2022-07-01T19:50:05.621670Z",
     "iopub.status.idle": "2022-07-01T19:50:05.650278Z",
     "shell.execute_reply": "2022-07-01T19:50:05.648499Z",
     "shell.execute_reply.started": "2022-07-01T19:50:05.621968Z"
    },
    "tags": []
   },
   "outputs": [],
   "source": [
    "df_1.head()"
   ]
  },
  {
   "cell_type": "code",
   "execution_count": null,
   "id": "continent-pitch",
   "metadata": {
    "execution": {
     "iopub.execute_input": "2022-07-01T19:50:38.380813Z",
     "iopub.status.busy": "2022-07-01T19:50:38.380339Z",
     "iopub.status.idle": "2022-07-01T19:50:38.392645Z",
     "shell.execute_reply": "2022-07-01T19:50:38.391618Z",
     "shell.execute_reply.started": "2022-07-01T19:50:38.380769Z"
    },
    "tags": []
   },
   "outputs": [],
   "source": [
    "#Series.unique and .nunique - Get the all elements of a series with out duplicates and get amount of diferent elements in a DF\n",
    "df_1['check_score'].unique()\n",
    "# df_1['type'].nunique()"
   ]
  },
  {
   "cell_type": "code",
   "execution_count": null,
   "id": "bigger-brave",
   "metadata": {
    "execution": {
     "iopub.execute_input": "2022-07-01T19:57:59.428803Z",
     "iopub.status.busy": "2022-07-01T19:57:59.428483Z",
     "iopub.status.idle": "2022-07-01T19:57:59.439011Z",
     "shell.execute_reply": "2022-07-01T19:57:59.437934Z",
     "shell.execute_reply.started": "2022-07-01T19:57:59.428775Z"
    },
    "tags": []
   },
   "outputs": [],
   "source": [
    "#df.groupby - group data by a specific column \n",
    "df_1_type = df_1.groupby(['type'])\n",
    "#Get df for each type\n",
    "dict(list(df_1_type))['MOVIE']    \n",
    "\n",
    "#groupby more than 1 col \n",
    "df_1_type_score = df_1.groupby(['type','score_cut'])\n",
    "\n"
   ]
  },
  {
   "cell_type": "code",
   "execution_count": null,
   "id": "sensitive-christmas",
   "metadata": {
    "execution": {
     "iopub.execute_input": "2022-07-01T20:01:26.136017Z",
     "iopub.status.busy": "2022-07-01T20:01:26.135722Z",
     "iopub.status.idle": "2022-07-01T20:01:26.146132Z",
     "shell.execute_reply": "2022-07-01T20:01:26.145234Z",
     "shell.execute_reply.started": "2022-07-01T20:01:26.135990Z"
    },
    "tags": []
   },
   "outputs": [],
   "source": [
    "#show groups\n",
    "df_1_type_score.groups\n",
    "#get groups keys\n",
    "df_1_type_score.groups.keys()"
   ]
  },
  {
   "cell_type": "code",
   "execution_count": null,
   "id": "affecting-disney",
   "metadata": {
    "execution": {
     "iopub.execute_input": "2022-07-01T19:59:20.557925Z",
     "iopub.status.busy": "2022-07-01T19:59:20.557473Z",
     "iopub.status.idle": "2022-07-01T19:59:20.678923Z",
     "shell.execute_reply": "2022-07-01T19:59:20.677717Z",
     "shell.execute_reply.started": "2022-07-01T19:59:20.557883Z"
    },
    "tags": []
   },
   "outputs": [],
   "source": [
    "#get_group - get group dataframe\n",
    "df_1_type_score.get_group(('MOVIE', 'Maior que 5'))"
   ]
  },
  {
   "cell_type": "code",
   "execution_count": null,
   "id": "heated-composition",
   "metadata": {
    "execution": {
     "iopub.execute_input": "2022-07-01T20:17:21.595062Z",
     "iopub.status.busy": "2022-07-01T20:17:21.594474Z",
     "iopub.status.idle": "2022-07-01T20:17:21.676039Z",
     "shell.execute_reply": "2022-07-01T20:17:21.674435Z",
     "shell.execute_reply.started": "2022-07-01T20:17:21.595025Z"
    },
    "tags": []
   },
   "outputs": [],
   "source": [
    "from datetime import datetime, date\n",
    "\n",
    "df_1['release_year'] = df_1['release_year'].apply(lambda x : datetime.strptime(str(x), '%Y'))"
   ]
  },
  {
   "cell_type": "code",
   "execution_count": null,
   "id": "academic-constraint",
   "metadata": {
    "execution": {
     "iopub.execute_input": "2022-07-01T20:17:23.639387Z",
     "iopub.status.busy": "2022-07-01T20:17:23.639073Z",
     "iopub.status.idle": "2022-07-01T20:17:23.685166Z",
     "shell.execute_reply": "2022-07-01T20:17:23.672105Z",
     "shell.execute_reply.started": "2022-07-01T20:17:23.639360Z"
    },
    "tags": []
   },
   "outputs": [],
   "source": [
    "df_1.head()"
   ]
  },
  {
   "cell_type": "code",
   "execution_count": null,
   "id": "documentary-piano",
   "metadata": {
    "execution": {
     "iopub.execute_input": "2022-07-01T20:12:29.242972Z",
     "iopub.status.busy": "2022-07-01T20:12:29.242485Z",
     "iopub.status.idle": "2022-07-01T20:12:29.267461Z",
     "shell.execute_reply": "2022-07-01T20:12:29.257741Z",
     "shell.execute_reply.started": "2022-07-01T20:12:29.242937Z"
    },
    "tags": []
   },
   "outputs": [],
   "source": [
    "df_1.info()"
   ]
  },
  {
   "cell_type": "code",
   "execution_count": null,
   "id": "biblical-burner",
   "metadata": {
    "execution": {
     "iopub.execute_input": "2022-07-01T20:17:28.994213Z",
     "iopub.status.busy": "2022-07-01T20:17:28.993928Z",
     "iopub.status.idle": "2022-07-01T20:17:29.039335Z",
     "shell.execute_reply": "2022-07-01T20:17:29.029565Z",
     "shell.execute_reply.started": "2022-07-01T20:17:28.994188Z"
    },
    "tags": []
   },
   "outputs": [],
   "source": [
    "df_1.set_index('release_year').groupby(pd.Grouper(freq='Y')).agg({'id':'count'})"
   ]
  },
  {
   "cell_type": "markdown",
   "id": "happy-dairy",
   "metadata": {},
   "source": [
    "#DIY\n",
    "- crie uma nova coluna categorica com a coluna run time com as opções curta_duracao(30<), media_duracao(entre 30 e 90), longa_duracao(>90)\n",
    "- faça um group by com essas nova coluna \n",
    "- atribua cada grupo a uma variavel \n",
    "- veja o tamanho do dataframe e defina quantos filmes tem cada categoria nova criada \n",
    "- pegue o top 10 de cada grupo (imdb score)"
   ]
  },
  {
   "cell_type": "code",
   "execution_count": null,
   "id": "transsexual-fashion",
   "metadata": {},
   "outputs": [],
   "source": []
  },
  {
   "cell_type": "code",
   "execution_count": null,
   "id": "floating-likelihood",
   "metadata": {},
   "outputs": [],
   "source": []
  },
  {
   "cell_type": "code",
   "execution_count": null,
   "id": "composite-drilling",
   "metadata": {},
   "outputs": [],
   "source": []
  },
  {
   "cell_type": "code",
   "execution_count": null,
   "id": "greenhouse-lyric",
   "metadata": {},
   "outputs": [],
   "source": []
  },
  {
   "cell_type": "code",
   "execution_count": null,
   "id": "driving-overall",
   "metadata": {},
   "outputs": [],
   "source": []
  },
  {
   "cell_type": "markdown",
   "id": "surface-alexandria",
   "metadata": {
    "heading_collapsed": "true",
    "tags": []
   },
   "source": [
    "#### Concat and append"
   ]
  },
  {
   "cell_type": "code",
   "execution_count": null,
   "id": "phantom-comment",
   "metadata": {
    "execution": {
     "iopub.execute_input": "2022-07-01T21:00:43.770749Z",
     "iopub.status.busy": "2022-07-01T21:00:43.770474Z",
     "iopub.status.idle": "2022-07-01T21:00:43.910099Z",
     "shell.execute_reply": "2022-07-01T21:00:43.908958Z",
     "shell.execute_reply.started": "2022-07-01T21:00:43.770725Z"
    },
    "tags": []
   },
   "outputs": [],
   "source": [
    "df_2 = pd.read_csv('bases/credits.csv')"
   ]
  },
  {
   "cell_type": "code",
   "execution_count": null,
   "id": "unlimited-extreme",
   "metadata": {
    "execution": {
     "iopub.execute_input": "2022-07-01T20:29:55.635937Z",
     "iopub.status.busy": "2022-07-01T20:29:55.635519Z",
     "iopub.status.idle": "2022-07-01T20:29:55.686298Z",
     "shell.execute_reply": "2022-07-01T20:29:55.684916Z",
     "shell.execute_reply.started": "2022-07-01T20:29:55.635894Z"
    },
    "tags": []
   },
   "outputs": [],
   "source": [
    "df_2.info()"
   ]
  },
  {
   "cell_type": "code",
   "execution_count": null,
   "id": "recent-animal",
   "metadata": {
    "execution": {
     "iopub.execute_input": "2022-07-01T20:30:06.069518Z",
     "iopub.status.busy": "2022-07-01T20:30:06.069029Z",
     "iopub.status.idle": "2022-07-01T20:30:06.085083Z",
     "shell.execute_reply": "2022-07-01T20:30:06.083642Z",
     "shell.execute_reply.started": "2022-07-01T20:30:06.069471Z"
    }
   },
   "outputs": [],
   "source": [
    "df_2.head()"
   ]
  },
  {
   "cell_type": "code",
   "execution_count": null,
   "id": "intelligent-infrared",
   "metadata": {
    "execution": {
     "iopub.execute_input": "2022-07-01T20:49:05.221838Z",
     "iopub.status.busy": "2022-07-01T20:49:05.221400Z",
     "iopub.status.idle": "2022-07-01T20:49:05.234067Z",
     "shell.execute_reply": "2022-07-01T20:49:05.232917Z",
     "shell.execute_reply.started": "2022-07-01T20:49:05.221798Z"
    },
    "tags": []
   },
   "outputs": [],
   "source": [
    "df_2.shape[0]/2"
   ]
  },
  {
   "cell_type": "code",
   "execution_count": null,
   "id": "divine-immune",
   "metadata": {
    "execution": {
     "iopub.execute_input": "2022-07-01T20:48:37.708348Z",
     "iopub.status.busy": "2022-07-01T20:48:37.707908Z",
     "iopub.status.idle": "2022-07-01T20:48:37.731297Z",
     "shell.execute_reply": "2022-07-01T20:48:37.730042Z",
     "shell.execute_reply.started": "2022-07-01T20:48:37.708291Z"
    },
    "tags": []
   },
   "outputs": [],
   "source": [
    "# sample - get a sample ofyour data random\n",
    "df_2_sample = df_2.sample(frac=.5, replace=True, random_state=42)\n"
   ]
  },
  {
   "cell_type": "code",
   "execution_count": null,
   "id": "compliant-parcel",
   "metadata": {
    "execution": {
     "iopub.execute_input": "2022-07-01T20:51:26.888894Z",
     "iopub.status.busy": "2022-07-01T20:51:26.888405Z",
     "iopub.status.idle": "2022-07-01T20:51:26.895262Z",
     "shell.execute_reply": "2022-07-01T20:51:26.893024Z",
     "shell.execute_reply.started": "2022-07-01T20:51:26.888848Z"
    },
    "tags": []
   },
   "outputs": [],
   "source": [
    "#split data purposly \n",
    "df1 = df_2.iloc[:38606, :]\n",
    "df2 = df_2.iloc[38606:, :]"
   ]
  },
  {
   "cell_type": "code",
   "execution_count": null,
   "id": "loose-louisiana",
   "metadata": {
    "execution": {
     "iopub.execute_input": "2022-07-01T20:51:27.468210Z",
     "iopub.status.busy": "2022-07-01T20:51:27.467897Z",
     "iopub.status.idle": "2022-07-01T20:51:27.492833Z",
     "shell.execute_reply": "2022-07-01T20:51:27.491739Z",
     "shell.execute_reply.started": "2022-07-01T20:51:27.468184Z"
    },
    "tags": []
   },
   "outputs": [],
   "source": [
    "df2"
   ]
  },
  {
   "cell_type": "code",
   "execution_count": null,
   "id": "expected-individual",
   "metadata": {
    "execution": {
     "iopub.execute_input": "2022-07-01T20:51:30.862681Z",
     "iopub.status.busy": "2022-07-01T20:51:30.862044Z",
     "iopub.status.idle": "2022-07-01T20:51:30.923672Z",
     "shell.execute_reply": "2022-07-01T20:51:30.922469Z",
     "shell.execute_reply.started": "2022-07-01T20:51:30.862636Z"
    },
    "tags": []
   },
   "outputs": [],
   "source": [
    "new_df = pd.concat([df1,df2])"
   ]
  },
  {
   "cell_type": "code",
   "execution_count": null,
   "id": "returning-router",
   "metadata": {
    "execution": {
     "iopub.execute_input": "2022-07-01T20:52:40.558155Z",
     "iopub.status.busy": "2022-07-01T20:52:40.557547Z",
     "iopub.status.idle": "2022-07-01T20:52:40.581172Z",
     "shell.execute_reply": "2022-07-01T20:52:40.568201Z",
     "shell.execute_reply.started": "2022-07-01T20:52:40.558125Z"
    },
    "tags": []
   },
   "outputs": [],
   "source": [
    "df1 = df_2.loc[:, :'name']\n",
    "df2 = df_2.loc[:, 'character':]"
   ]
  },
  {
   "cell_type": "code",
   "execution_count": null,
   "id": "persistent-immune",
   "metadata": {
    "execution": {
     "iopub.execute_input": "2022-07-01T20:52:52.321220Z",
     "iopub.status.busy": "2022-07-01T20:52:52.320915Z",
     "iopub.status.idle": "2022-07-01T20:52:52.328600Z",
     "shell.execute_reply": "2022-07-01T20:52:52.327191Z",
     "shell.execute_reply.started": "2022-07-01T20:52:52.321194Z"
    },
    "tags": []
   },
   "outputs": [],
   "source": [
    "new_df = pd.concat([df1,df2], axis=1)"
   ]
  },
  {
   "cell_type": "code",
   "execution_count": null,
   "id": "returning-david",
   "metadata": {
    "execution": {
     "iopub.execute_input": "2022-07-01T20:55:08.931107Z",
     "iopub.status.busy": "2022-07-01T20:55:08.930782Z",
     "iopub.status.idle": "2022-07-01T20:55:08.937596Z",
     "shell.execute_reply": "2022-07-01T20:55:08.935442Z",
     "shell.execute_reply.started": "2022-07-01T20:55:08.931078Z"
    }
   },
   "outputs": [],
   "source": [
    "s = pd.Series(['01010101', 'tm010101010', 'Roger Rendon', 'Carlos','ACTOR'], index=['person_id', 'id', 'name','character','role'])"
   ]
  },
  {
   "cell_type": "code",
   "execution_count": null,
   "id": "verified-laptop",
   "metadata": {
    "execution": {
     "iopub.execute_input": "2022-07-01T20:55:10.589376Z",
     "iopub.status.busy": "2022-07-01T20:55:10.588447Z",
     "iopub.status.idle": "2022-07-01T20:55:10.618160Z",
     "shell.execute_reply": "2022-07-01T20:55:10.616144Z",
     "shell.execute_reply.started": "2022-07-01T20:55:10.589322Z"
    }
   },
   "outputs": [],
   "source": [
    "s"
   ]
  },
  {
   "cell_type": "code",
   "execution_count": null,
   "id": "advance-zambia",
   "metadata": {
    "execution": {
     "iopub.execute_input": "2022-07-01T20:55:52.153420Z",
     "iopub.status.busy": "2022-07-01T20:55:52.152879Z",
     "iopub.status.idle": "2022-07-01T20:55:52.177281Z",
     "shell.execute_reply": "2022-07-01T20:55:52.176129Z",
     "shell.execute_reply.started": "2022-07-01T20:55:52.153379Z"
    },
    "tags": []
   },
   "outputs": [],
   "source": [
    "df_2.append(s,ignore_index=True)"
   ]
  },
  {
   "cell_type": "code",
   "execution_count": null,
   "id": "monetary-symphony",
   "metadata": {
    "execution": {
     "iopub.execute_input": "2022-07-01T21:02:36.928981Z",
     "iopub.status.busy": "2022-07-01T21:02:36.927229Z",
     "iopub.status.idle": "2022-07-01T21:02:36.977627Z",
     "shell.execute_reply": "2022-07-01T21:02:36.974909Z",
     "shell.execute_reply.started": "2022-07-01T21:02:36.928928Z"
    },
    "tags": []
   },
   "outputs": [],
   "source": [
    "new_data = [['01010101', 'tm010101010', 'Roger Rendon', 'Carlos','ACTOR']]\n",
    "df_temp = pd.DataFrame(new_data,columns=['person_id', 'id', 'name','character','role'])\n",
    "df_2.append(df_temp,ignore_index=True)"
   ]
  },
  {
   "cell_type": "code",
   "execution_count": null,
   "id": "looking-significance",
   "metadata": {},
   "outputs": [],
   "source": []
  }
 ],
 "metadata": {
  "kernelspec": {
   "display_name": "Python 3.9.7 ('base')",
   "language": "python",
   "name": "python3"
  },
  "language_info": {
   "codemirror_mode": {
    "name": "ipython",
    "version": 3
   },
   "file_extension": ".py",
   "mimetype": "text/x-python",
   "name": "python",
   "nbconvert_exporter": "python",
   "pygments_lexer": "ipython3",
   "version": "3.9.7"
  },
  "vscode": {
   "interpreter": {
    "hash": "475e1a16712c75e6f420dc241e46e3a20593f7174cc3b6fcebdfcd1763efcb65"
   }
  }
 },
 "nbformat": 4,
 "nbformat_minor": 5
}
