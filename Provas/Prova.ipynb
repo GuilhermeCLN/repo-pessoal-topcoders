{
 "cells": [
  {
   "cell_type": "markdown",
   "id": "755209c2-b19c-41ab-acac-ddb0e9571ac0",
   "metadata": {},
   "source": [
    "Questão 1\n",
    "\n",
    "Enunciado\n",
    "Gerador de senha\n",
    "\n",
    "Escreva uma função que gere uma senha aleatória para o usuário. O programa deve perguntar para o usuário quantas letras e quantos números desejará nessa senha, e a senha retornada deve ter aleatoriamente letras maiúsculas e minúsculas. A ordem entre letras e números não precisa ser aleatória.\n",
    "\n",
    "Como dica utilize o código dado"
   ]
  },
  {
   "cell_type": "code",
   "execution_count": 75,
   "id": "f92f46ad-7ded-4281-bb80-c73baf416796",
   "metadata": {},
   "outputs": [
    {
     "name": "stdin",
     "output_type": "stream",
     "text": [
      "Qual a quantidade de letras na senha?  3\n",
      "Qual a quantidade de números na senha?  4\n"
     ]
    },
    {
     "data": {
      "text/plain": [
       "'nLl6420'"
      ]
     },
     "execution_count": 75,
     "metadata": {},
     "output_type": "execute_result"
    }
   ],
   "source": [
    "import random\n",
    "\n",
    "def gera_senha():\n",
    "    \n",
    "    qtd_letras = int(input('Qual a quantidade de letras na senha? '))\n",
    "    qtd_num = int(input('Qual a quantidade de números na senha? '))\n",
    "    \n",
    "    lista_letras = list('ABCDEFGHIJKLMNOPQRSTUVWXYZabcdefghijklmnopqrstuvwxyz')\n",
    "    lista_num = list('1234567890')\n",
    "    lista_senha = []\n",
    "    senha = ''\n",
    "    \n",
    "    i = 0\n",
    "    while i < qtd_letras:\n",
    "        lista_senha.append(lista_letras[random.randint(0, len(lista_letras)-1)])\n",
    "        i += 1\n",
    "        \n",
    "    i = 0\n",
    "    while i <qtd_num:\n",
    "        lista_senha.append(lista_num[random.randint(0, len(lista_num)-1)])\n",
    "        i += 1\n",
    "    \n",
    "    i = 0\n",
    "    while i < len(lista_senha):\n",
    "        senha = senha + lista_senha[i]\n",
    "        i+=1\n",
    "        \n",
    "    return senha\n",
    "\n",
    "gera_senha()"
   ]
  },
  {
   "cell_type": "markdown",
   "id": "8f8c53b8-90d3-49ae-a7d8-bece4ca5568b",
   "metadata": {},
   "source": [
    "Questão 2\n",
    "\n",
    "Enunciado\n",
    "Pedra, papel, tesoura\n",
    "\n",
    "Faça uma função que funcione como o jogo \"pedra, papel, tesoura\", onde um usuário joga contra o computador. A escolha do usuário é fornecida através do comando input(), enquanto que a do computador é escolhida aleatoriamente. O programa deve perguntar se o usuário quer jogar novamente.\n",
    "\n",
    "Regras do jogo:\n",
    "\n",
    "papel vence pedra\n",
    "\n",
    "pedra vence tesoura\n",
    "\n",
    "tesoura vence papel\n",
    "\n",
    "Como dica, utilize o código dado:"
   ]
  },
  {
   "cell_type": "code",
   "execution_count": 74,
   "id": "b1f05f2c-4d29-443c-842d-7f00f512988b",
   "metadata": {
    "tags": []
   },
   "outputs": [
    {
     "name": "stdin",
     "output_type": "stream",
     "text": [
      "Qual elemento você escolhe? Digite pedra, papel ou tesoura:  pedra\n"
     ]
    },
    {
     "name": "stdout",
     "output_type": "stream",
     "text": [
      "O computador escolheu tesoura!\n",
      "Parabéns! Você ganhou!\n"
     ]
    },
    {
     "name": "stdin",
     "output_type": "stream",
     "text": [
      "Você deseja jogar novamente? Digite sim ou não:  não\n"
     ]
    }
   ],
   "source": [
    "import random\n",
    "\n",
    "def jokenpo():\n",
    "    jogar = 'sim'\n",
    "    while jogar != 'não':\n",
    "        \n",
    "        while jogar != 'sim' and jogar != 'não':\n",
    "            print('Desculpe, não entendi.')\n",
    "            jogar = input('Você deseja jogar novamente? Digite sim ou não: ').lower()\n",
    "        \n",
    "        opcoes = ['pedra', 'papel', 'tesoura']\n",
    "        escolha_pessoa = str(input('Qual elemento você escolhe? Digite pedra, papel ou tesoura: ')).lower()\n",
    "        \n",
    "        while escolha_pessoa != 'pedra' and escolha_pessoa != 'papel' and escolha_pessoa != 'tesoura':\n",
    "            escolha_pessoa = str(input('Não entendi! Qual elemento você escolhe? Digite pedra, papel ou tesoura: ')).lower()\n",
    "            \n",
    "        escolha_computador = opcoes[random.randint(0, 2)]\n",
    "        print(f'O computador escolheu {escolha_computador}!')\n",
    "\n",
    "        if escolha_computador == 'pedra':\n",
    "            if escolha_pessoa == 'papel':\n",
    "                print('Parabéns! Você ganhou!')\n",
    "            elif escolha_pessoa == 'tesoura':\n",
    "                print('Que pena! Você perdeu!')\n",
    "            elif escolha_pessoa == 'pedra':\n",
    "                print('Eita! O resultado foi empate!')\n",
    "\n",
    "        if escolha_computador == 'papel':\n",
    "            if escolha_pessoa == 'tesoura':\n",
    "                print('Parabéns! Você ganhou!')\n",
    "            elif escolha_pessoa == 'pedra':\n",
    "                print('Que pena! Você perdeu!')\n",
    "            elif escolha_pessoa == 'papel':\n",
    "                print('Eita! O resultado foi empate!')\n",
    "\n",
    "        if escolha_computador == 'tesoura':\n",
    "            if escolha_pessoa == 'pedra':\n",
    "                print('Parabéns! Você ganhou!')\n",
    "            elif escolha_pessoa == 'papel':\n",
    "                print('Que pena! Você perdeu!')\n",
    "            elif escolha_pessoa == 'tesoura':\n",
    "                print('Eita! O resultado foi empate!')\n",
    "                \n",
    "        jogar = input('Você deseja jogar novamente? Digite sim ou não: ').lower()\n",
    "        \n",
    "\n",
    "            \n",
    "jokenpo()"
   ]
  },
  {
   "cell_type": "markdown",
   "id": "5d5c7813-1410-47fa-884a-a13ac8d1fb25",
   "metadata": {},
   "source": [
    "Enunciado\n",
    "Remove Divisíveis\n",
    "\n",
    "Faça uma função que recebe uma lista com inteiros e devolva a lista sem os números divisíveis por 2 e/ou por 5. Exemplo:"
   ]
  },
  {
   "cell_type": "code",
   "execution_count": 76,
   "id": "743ad1eb-9d0a-4956-807f-bbb024be3573",
   "metadata": {},
   "outputs": [
    {
     "data": {
      "text/plain": [
       "[1, 7, 1, 63, 7, 17, 71]"
      ]
     },
     "execution_count": 76,
     "metadata": {},
     "output_type": "execute_result"
    }
   ],
   "source": [
    "def remove_divisiveis(lista):\n",
    "    i = 0\n",
    "    lista_aux = []\n",
    "    while i < len(lista):\n",
    "        if type(lista[i]) != int:\n",
    "            print('Por favor, insira apenas números inteiros. Tente novamente.')\n",
    "        elif lista[i] % 2 != 0 and lista[i] % 5 != 0:\n",
    "            lista_aux.append(lista[i])\n",
    "        i += 1\n",
    "    return lista_aux\n",
    "remove_divisiveis([1, 4, 7, 1, 90, 63, 7, 17, 86, 71])"
   ]
  },
  {
   "cell_type": "markdown",
   "id": "0ebc3dfd-f62b-4b60-a808-ecd18694fc8e",
   "metadata": {},
   "source": [
    "Enunciado\n",
    "Faça uma função que some todos os inteiros de uma lista de N dimensões. Por exemplo, se inserirmos a lista:\n",
    "\n",
    "lista = [1, 10, [4, 7, [4, 9], 0], [1, [3, [5]]], 7]\n",
    "\n",
    "Teremos como resposta 51. Note que a quantidade de listas aninhadas não é definida e seu programa deve funcionar para qualquer estrutura de lista de inteiros aninhada."
   ]
  },
  {
   "cell_type": "code",
   "execution_count": 58,
   "id": "ada24a51-61d9-4a2e-8e1b-2f556f0ba8fd",
   "metadata": {},
   "outputs": [
    {
     "data": {
      "text/plain": [
       "51"
      ]
     },
     "execution_count": 59,
     "metadata": {},
     "output_type": "execute_result"
    }
   ],
   "source": [
    "def soma_inteiros(lista):\n",
    "    i = 0\n",
    "    lista_aux = []\n",
    "    while i < len(lista):\n",
    "        if type(lista[i]) == list:\n",
    "            lista_aux.append(soma_inteiros(lista[i]))\n",
    "        elif type(lista[i]) == int:\n",
    "            lista_aux.append(lista[i])\n",
    "        else:\n",
    "            print('Tipo inválido detectado! Tente novamente!')\n",
    "            break\n",
    "        i += 1\n",
    "    soma = sum(lista_aux)\n",
    "    return soma\n",
    "soma_inteiros([1, 10, [4, 7, [4, 9], 0], [1, [3, [5]]], 7])"
   ]
  },
  {
   "cell_type": "markdown",
   "id": "5da48f87-bc22-4ea8-939b-924e51ffcf89",
   "metadata": {},
   "source": [
    "Enunciado\n",
    "Faça uma função que receba uma lista de N dimensões e um valor e remova este valor de toda a estrutura, incluindo as sublistas. Por exemplo, se inserirmos a lista e o valor:\n",
    "\n",
    "lista = [1, 10, [4, 7, [4, 9], 0], 4, [1, [3, [5]], 4], 7]\n",
    "valor = 4\n",
    "Devemos receber na saída:\n",
    "\n",
    "lista = [1, 10, [7, [9], 0], [1, [3, [5]]], 7]\n",
    "Note que a quantidade de listas aninhadas não é definida e seu programa deve funcionar para qualquer estrutura de listas aninhada.\n",
    "\n",
    "Note, também, que apesar do exemplo ser feito com inteiros qualquer tipo de dado deve funcionar."
   ]
  },
  {
   "cell_type": "code",
   "execution_count": null,
   "id": "8a5060f9-7213-4ef1-8b59-818a7b109f2f",
   "metadata": {},
   "outputs": [],
   "source": [
    "def remove_valor(lista, valor):\n",
    "    i = 0\n",
    "    while i < len(lista):\n",
    "        if type(lista[i]) == list:\n",
    "            remove_valor(lista[i], valor)\n",
    "        else:\n",
    "            while valor in lista:\n",
    "                lista.remove(valor)\n",
    "        i += 1\n",
    "    return lista\n",
    "remove_valor([1, 10, [4, 7, [4, 9], 0], 4, [1, [3, [5]], 4], 7], 4)"
   ]
  },
  {
   "cell_type": "markdown",
   "id": "a2664e78-b8a2-4e24-b46c-255ae66c46c0",
   "metadata": {},
   "source": [
    "def soma_inteiros(lista): i = 0 lista_aux = [] while i < len(lista): if type(lista[i]) == list: lista_aux.append(soma_inteiros(lista[i])) elif type(lista[i]) == int: lista_aux.append(lista[i]) else: print('Tipo inválido detectado! Tente novamente!') break i += 1 soma = sum(lista_aux) return soma soma_inteiros([1, 10, [4, 7, [4, 9], 0], [1, [3, [5]]], 7])"
   ]
  },
  {
   "cell_type": "code",
   "execution_count": null,
   "id": "c0074a1b-ba14-44b5-934b-203f58c67373",
   "metadata": {},
   "outputs": [],
   "source": []
  }
 ],
 "metadata": {
  "kernelspec": {
   "display_name": "Python 3 (ipykernel)",
   "language": "python",
   "name": "python3"
  },
  "language_info": {
   "codemirror_mode": {
    "name": "ipython",
    "version": 3
   },
   "file_extension": ".py",
   "mimetype": "text/x-python",
   "name": "python",
   "nbconvert_exporter": "python",
   "pygments_lexer": "ipython3",
   "version": "3.9.7"
  }
 },
 "nbformat": 4,
 "nbformat_minor": 5
}
