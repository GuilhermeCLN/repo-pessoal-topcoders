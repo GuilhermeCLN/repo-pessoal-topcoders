{
 "cells": [
  {
   "cell_type": "markdown",
   "metadata": {
    "id": "jQKvjTK5s1Os"
   },
   "source": [
    "# Bem vindos a Let's Code!\n",
    "Parabéns por este passo dado em direção seu futuro.<br>\n",
    "Vamos programar?<br><br>\n",
    "<div>\n",
    "<img src=\"https://www.memecreator.org/static/images/memes/4722460.jpg\" width=\"500\"/>\n",
    "</div>"
   ]
  },
  {
   "cell_type": "markdown",
   "metadata": {
    "id": "_IBM2UARs1Ox"
   },
   "source": [
    "## 👨‍🏫 O Professor 👨‍🏫\n",
    "\n",
    "#### Brian Andrade Nunes\n",
    "- Graduando de Engenharia de Computação - POLI - USP<br />\n",
    "- Professor e Estagiário na Let's Code\n",
    "- E-mail: brian.nunes@usp.br<br />\n",
    "- WhatsApp: (11) 96391-3887<br />"
   ]
  },
  {
   "cell_type": "markdown",
   "metadata": {
    "id": "SaAO0Mc0s1Oz"
   },
   "source": [
    "## 📍 Tópicos de Hoje 📍\n",
    "<br>\n",
    "\n",
    "🖖 Conversa, Apresentação e o Curso\n",
    "\n",
    "👣 [Primeiros Passos: Seu Computador Sabe Python?](#um)\n",
    "\n",
    "👶 [Ambiente de Desenvolvimento: O Que São? Qual Usar?](#dois)\n",
    "\n",
    "🚶‍♂️ [Varíaveis: Conceito de Memória e Dados](#tres)\n",
    "\n",
    "🏃 [Operadores Matemáticos e Comunicação com o Usuário](#quatro)\n",
    "    \n",
    "🏆 [Exercícios](#cinco)\n",
    "\n",
    "🚀 [O Futuro...](#seis)"
   ]
  },
  {
   "cell_type": "markdown",
   "metadata": {
    "id": "tgpLO0Dds1Oz"
   },
   "source": [
    "## 💻🎓  Primeiros passos: Seu computador sabe Python? 💻🎓 <a class=\"anchor\" id=\"um\"></a>\n",
    "<br>\n",
    "\n",
    "<div align=\"justify\">\n",
    "&emsp; Antes de aprendermos Python nosso computador precisa entender Python, se você usa Linux ou MacOS seu computador já entende, mas se usa Windows não tema! Iremos ensinar nosso computador.<br>\n",
    "&emsp; Iremos instalar o Python, mas ele não é um programa normal que você abre e \"roda\", ele serve apenas para seu computador entender o que escrevermos na linguagem. Para isso vamos nesse link: <a href=\"https://www.python.org\">Instalador Python</a>, e na aba de <i>downloads</i> clicar na opçao mais a direita que aparecer.<br>\n",
    "&emsp; Basta iniciarmos o instalador baixado, mas <strong>cuidado</strong>, você <strong>deve</strong> marcar a opção de adicionar o Python no seu PATH do Windows para que funcione!<br>\n",
    "</div>\n",
    "\n",
    "<img src=\"https://phoenixnap.com/kb/wp-content/uploads/2021/04/python-setup.png\" width=\"500\"/><br>\n",
    "\n",
    "<div align=\"justify\">\n",
    "&emsp; Em seguida podemos seguir sem grandes novidades e perigos 😁<br><br>\n",
    "&emsp; Para conferir a instalação devemos abrir o terminal do nosso computador. Em Windows devemos usar: <b>Windows + R</b> escrever <b>\"cmd\"</b> e pressionar <b>Enter</b>; No Linux usamos <b>Ctrl + Alt + T</b>; E no MacOS apertaremos <b>Control + Espaço</b> e procuraremos por <b>Terminal</b> na barra do <i>Spotlight</i>. E dentro do terminal escreveremos <b>\"python --version\"</b> ou <b>\"python3 --version\"</b>, a saida esperada é algo como <b>\"Python 3.9.5\"</b>, ou seja, nossa nova linguagem do coração seguida da versão que instalamos dela!\n",
    "</div>"
   ]
  },
  {
   "cell_type": "markdown",
   "metadata": {
    "id": "YQwHtbA0s1O0"
   },
   "source": [
    "## 🔧 Ambiente de desenvolvimento: O que são? Qual usar? 🔧<a class=\"anchor\" id=\"dois\"></a>\n",
    "\n",
    "&emsp; Ambientes de Desenvolvimentos, ou IDEs, são nosso campo de batalha, é onde a criança chora e a mãe não vê! É aqui que vamos escrever nossos códigos, inclusive, se você está lendo isso no seu computador, é por quê já está em uma IDE: o _Jupyter Notebook_ (ou qualquer leitor de _notebooks_ de Python como o _Google Colab_). <br>\n",
    "&emsp; No curso usarei principalmente o _Jupyter Notebook_ por ter a capacidade de desenvolver esses materiais com muuuuito carinho para vocês, onde texto, imagens e códigos podem ser misturados, além de ter a capacidade de rodar pequenos trechos de códigos um por vez o que nos ajuda a entender o que está acontecendo e manter a organização, mas não me limitarei a ele e também usarei o _Visual Studio Code_ por ser uma ferramenta mais robusta que conta com ferramentas que facilitam nosso desenvolvimento (como o _debug_ que veremos mais a frente!).<br>\n",
    "&emsp; Qual IDE usar vai depender muito de suas necessidades, mas recomendo que todos usem um leitor de _notebooks_ no curso para que vocês possam acompanhar o material fornecido e também consiguirem rodar pequenos pedaços isolados de código sem ter que criar um arquivo novo para cada um.<br>\n",
    "\n",
    "### Instalação do _Jupyter Notebook_\n",
    "&emsp; Para instalar o _Jupyter Notebook_ devemos abrir nosso terminal e escrever **\"pip install notebook\"**, o **pip** é um amigo nosso que servirá para instalar complementos para o Python. Após a instalação ser completa basta escrever **\"python -m notebook\"** e seu navegador padrão será aberto rodando o _Jupyter_, note que você não pode fechar o terminal que usou para abrir, se não sua IDE não irá funcionar.<br>\n",
    "&emsp; Na tela inicial do _Jupyter_ temos o **_new_** e o **_upload_**, no _new_ podemos iniciar um _notebook_ novo na opção Python3, e no _upload_ adicionar um que baixamos, por exemplo. Vamos tentar com este que estou usando?<br>\n",
    "&emsp; Agora dentro de um _notebook_ podemos brincar com os blocos de _markdown_ onde escrevemos textos (desde texto puro até o uso de HTML para estilizar nosso conteúdo, nesse link vocês podem consultar muitas funcionalidades: <a href=\"https://medium.com/analytics-vidhya/the-ultimate-markdown-guide-for-jupyter-notebook-d5e5abf728fd\">Tutorial de Markdown</a>), e os blocos de código onde programaremos e iremos rodar usando os botões estilo multimídia na barra superior. Não se preocupem com o resto, aprenderemos com o tempo.<br>\n",
    "\n",
    "### Instalação do _Visual Studio Code_\n",
    "&emsp; Para instalar o _Visual Studio Code_ basta baixarmos no site: <a href=\"https://code.visualstudio.com\">Visual Studio Code</a>, e seguir a instalação, apenas percebam que na última tela devemos marcar tudo como na foto abaixo: <br>\n",
    "<img src=\"https://s3-sa-east-1.amazonaws.com/lcpi/627ae5e6-7486-400b-adcf-fe1f7fe71d0e.png\" width=\"500\"/><br>\n",
    "&emsp; E para finalmente rodarmos Python precisaremos de algumas gracinhas que nos ajudarão muito: as extensões. Elas podem ser fácilmente baixadas clicando aqui:<br>\n",
    "\n",
    "<img src=\"https://image.ibb.co/nqiKtd/Screenshot_32.png\" width=\"500\"/><br>\n",
    "\n",
    "&emsp; Em seguida podemos clicar em _file_ criar um arquivo com terminação _\".py\"_ e ser feliz! 😄<br>"
   ]
  },
  {
   "cell_type": "markdown",
   "metadata": {
    "id": "BBAZrBgxs1O1"
   },
   "source": [
    "## 📥 Varíaveis: Conceito de memória e dados 📤 <a class=\"anchor\" id=\"tres\"></a>\n",
    "\n",
    "&emsp; Váriaveis como o próprio diz são \"coisas\" variáveis, e usaremos elas para armazenar nossos dados.<br>\n",
    "&emsp; Dados possuem tipos: **_string_** que armazena texto, **_int_** que armazena números inteiros, **_float_** que armazena números decimais (separados por ponto!), e **_boolean_** que armazenará _true_ ou _false_. Embora o Python faça o trabalho de saber o que é o que sozinho, você precisa entender os tipos de dados para trabalhar com eles.<br>"
   ]
  },
  {
   "cell_type": "code",
   "execution_count": 1,
   "metadata": {
    "id": "CgO0rcYns1O3"
   },
   "outputs": [
    {
     "data": {
      "text/plain": [
       "'teste'"
      ]
     },
     "execution_count": 1,
     "metadata": {},
     "output_type": "execute_result"
    }
   ],
   "source": [
    "variavelInteira = 10\n",
    "variavelFloat = 3.14159\n",
    "nome = 'Brian'\n",
    "varLogica = True\n",
    "\n",
    "variavelInteira = 'teste'\n",
    "\n",
    "variavelInteira"
   ]
  },
  {
   "cell_type": "markdown",
   "metadata": {
    "id": "4QsQbPYas1O5"
   },
   "source": [
    "&emsp; Os tipos podem ser explicitados usando :**tipoDado** depois do nome da variável, além disso podemos fazer o _cast_ (mudança de tipo) usando _tipoDado(dadoQueQuerConverter)_ entre variaveis de diferentes tipos, mas note que isso pode gerar problemas se feito deliberadamente:<br>"
   ]
  },
  {
   "cell_type": "code",
   "execution_count": 2,
   "metadata": {
    "id": "OXnF2aAIs1O6"
   },
   "outputs": [
    {
     "name": "stdout",
     "output_type": "stream",
     "text": [
      "<class 'float'>\n",
      "<class 'bool'>\n"
     ]
    }
   ],
   "source": [
    "idade:int = 7 # variavel para armazenar idade\n",
    "nome:str = 'Brian'\n",
    "\n",
    "pi:float = 3.14159\n",
    "\n",
    "print(type(pi))\n",
    "\n",
    "pi = True\n",
    "\n",
    "print(type(pi))"
   ]
  },
  {
   "cell_type": "code",
   "execution_count": 3,
   "metadata": {
    "id": "32kc5RHbAx2m"
   },
   "outputs": [
    {
     "data": {
      "text/plain": [
       "7.0"
      ]
     },
     "execution_count": 3,
     "metadata": {},
     "output_type": "execute_result"
    }
   ],
   "source": [
    "nota = 7\n",
    "\n",
    "idade = \"15\"\n",
    "\n",
    "notaTxt = str(nota)\n",
    "\n",
    "notaInteira = int(nota)\n",
    "\n",
    "idadeFloat = float(idade)\n",
    "\n",
    "notaFloat = float(nota)\n",
    "\n",
    "notaFloat"
   ]
  },
  {
   "cell_type": "markdown",
   "metadata": {
    "id": "ma2p-IxQs1O8"
   },
   "source": [
    "&emsp; Sempre tente usar nomes que façam sentidos no seu programa para não se atrapalharem, isso fará mais sentido nos exercícios.<br>\n",
    "&emsp; No Python podemos definir muitas variáveis numa mesma linha com valores diferentes ou o mesmo valor.<br>"
   ]
  },
  {
   "cell_type": "code",
   "execution_count": 4,
   "metadata": {
    "id": "lZSiGjaPs1O9"
   },
   "outputs": [
    {
     "data": {
      "text/plain": [
       "9"
      ]
     },
     "execution_count": 4,
     "metadata": {},
     "output_type": "execute_result"
    }
   ],
   "source": [
    "x, y, z = 0, 5, 9\n",
    "\n",
    "z"
   ]
  },
  {
   "cell_type": "markdown",
   "metadata": {
    "id": "zIgx0dBbs1O9"
   },
   "source": [
    "## 🧮 Operadores Matemáticos e Comunicação com o Usuário 🧮 <a class=\"anchor\" id=\"quatro\"></a>\n",
    "\n",
    "### Operadores Matemáticos\n",
    "\n",
    "&emsp; O Python faz operações matemáticas entre variáveis e dados puros, a seguir temos uma tabela com os operadores e suas funções:<br>\n",
    "\n",
    "| Operador | Função           |\n",
    "|----------|------------------|\n",
    "| +        | Adição           |\n",
    "| -        | Subtração        |\n",
    "| *        | Multiplicação    |\n",
    "| /        | Divisão          |\n",
    "| %        | Resto de divisão |\n",
    "| **       | Potênciação      |\n",
    "| //       | Divisão Inteira  |\n",
    "\n",
    "&emsp; Além disso, fazemos uso de parênteses para definir ordem de contas assim como na matemática.<br>"
   ]
  },
  {
   "cell_type": "code",
   "execution_count": 5,
   "metadata": {
    "colab": {
     "base_uri": "https://localhost:8080/"
    },
    "executionInfo": {
     "elapsed": 222,
     "status": "ok",
     "timestamp": 1649788330116,
     "user": {
      "displayName": "Let's Code",
      "userId": "11032182575886093490"
     },
     "user_tz": 180
    },
    "id": "kbxrzgZes1O-",
    "outputId": "234fad4b-56a5-4bfa-cce6-d5d938b99c5e"
   },
   "outputs": [
    {
     "data": {
      "text/plain": [
       "4"
      ]
     },
     "execution_count": 5,
     "metadata": {},
     "output_type": "execute_result"
    }
   ],
   "source": [
    "a = 2\n",
    "b = 3\n",
    "((((a*b)**2)%17)//2)+3"
   ]
  },
  {
   "cell_type": "markdown",
   "metadata": {
    "id": "4iaYXSkds1O-"
   },
   "source": [
    "### input() e print()\n",
    "\n",
    "&emsp; A funcão input() irá ler uma entrada de usuário em formato de _string_ (portanto se você espera outro tipo de dado deverá fazer o _cast_), e podemos colocar outra _string_ dentro dos parênteses que será a pergunta feita ao usuário.<br>\n",
    "&emsp; A funcão print() irá imprimir algo para o usuário, e receberá o que ela deve imprimir dentro dos parênteses, podendo ser variáveis, textos e a mistura dos dois.<br>"
   ]
  },
  {
   "cell_type": "code",
   "execution_count": 6,
   "metadata": {
    "id": "i9myEkNcs1O_"
   },
   "outputs": [
    {
     "name": "stdout",
     "output_type": "stream",
     "text": [
      "Qual o seu nome? Guilherme\n",
      "Qual sua nacionalidade? Brasileiro\n",
      "Olá, Guilherme você é: Brasileiro\n"
     ]
    }
   ],
   "source": [
    "nome = input(\"Qual o seu nome? \")\n",
    "nacionalidade = input(\"Qual sua nacionalidade? \")\n",
    "print(\"Olá,\", nome, \"você é:\", nacionalidade)"
   ]
  },
  {
   "cell_type": "code",
   "execution_count": 7,
   "metadata": {
    "id": "gP0QPlT8Ax2n"
   },
   "outputs": [
    {
     "name": "stdout",
     "output_type": "stream",
     "text": [
      "Qual sua nota? 10\n",
      "10.0\n"
     ]
    }
   ],
   "source": [
    "nota = float(input(\"Qual sua nota? \"))\n",
    "print(nota)"
   ]
  },
  {
   "cell_type": "markdown",
   "metadata": {
    "id": "ksWegZoKs1PA"
   },
   "source": [
    "## 🎯 Exercícios 🎯 <a class=\"anchor\" id=\"cinco\"></a>\n",
    "\n",
    "**1)** Faça um Programa que mostre a mensagem \"Alo mundo\" na tela."
   ]
  },
  {
   "cell_type": "code",
   "execution_count": 8,
   "metadata": {
    "id": "Ajg4JjQSs1PA"
   },
   "outputs": [
    {
     "name": "stdout",
     "output_type": "stream",
     "text": [
      "Alô mundo\n"
     ]
    }
   ],
   "source": [
    "print('Alô mundo')"
   ]
  },
  {
   "cell_type": "markdown",
   "metadata": {
    "id": "UbK0yPCys1PB"
   },
   "source": [
    "**2)** Faça um Programa que peça as 4 notas bimestrais e mostre a média."
   ]
  },
  {
   "cell_type": "code",
   "execution_count": 9,
   "metadata": {
    "id": "6Q6tE9z9s1PB"
   },
   "outputs": [
    {
     "name": "stdout",
     "output_type": "stream",
     "text": [
      "Qual a nota do primeiro bimestre? 8\n",
      "Qual a nota do segundo bimestre? 10\n",
      "Qual a nota do terceiro bimestre? 7\n",
      "Qual a nota do quarto bimestre? 9\n",
      "A média final é: 8.5\n"
     ]
    }
   ],
   "source": [
    "x1 = float(input('Qual a nota do primeiro bimestre? '))\n",
    "x2 = float(input('Qual a nota do segundo bimestre? '))\n",
    "x3 = float(input('Qual a nota do terceiro bimestre? '))\n",
    "x4 = float(input('Qual a nota do quarto bimestre? '))\n",
    "print ('A média final é:', (x1+x2+x3+x4)/4)"
   ]
  },
  {
   "cell_type": "markdown",
   "metadata": {
    "id": "ED1eOWnfs1PB"
   },
   "source": [
    "**3)** Faça um Programa que pergunte quanto você ganha por hora e o número de horas trabalhadas no mês. Calcule e mostre o total do seu salário no referido mês."
   ]
  },
  {
   "cell_type": "code",
   "execution_count": 10,
   "metadata": {
    "id": "elBT1_j-s1PB"
   },
   "outputs": [
    {
     "name": "stdout",
     "output_type": "stream",
     "text": [
      "Quantos reais você ganha por hora? 25\n",
      "Quantas horas você trabalha por mês? 220\n",
      "Seu salário mensal é: 5500.0\n"
     ]
    }
   ],
   "source": [
    "valor= float(input('Quantos reais você ganha por hora? '))\n",
    "horas = int(input('Quantas horas você trabalha por mês? '))\n",
    "salario_mensal =  valor*horas\n",
    "print('Seu salário mensal é:', salario_mensal)"
   ]
  },
  {
   "cell_type": "markdown",
   "metadata": {
    "id": "d4cKZGA5s1PC"
   },
   "source": [
    "**4)** Faça um Programa que peça a temperatura em graus Fahrenheit, transforme e mostre a temperatura em graus Celsius.<br>\n",
    "\n",
    "$$ C = \\frac{5 * (F-32)}{9} $$"
   ]
  },
  {
   "cell_type": "code",
   "execution_count": 11,
   "metadata": {
    "id": "_xL0P4KFs1PC"
   },
   "outputs": [
    {
     "name": "stdout",
     "output_type": "stream",
     "text": [
      "Qual a temperatura em graus Fahrenheit? 15\n",
      "A temperatura em graus Celsius é: -9.444444444444445\n"
     ]
    }
   ],
   "source": [
    "temp_f = float(input('Qual a temperatura em graus Fahrenheit? '))\n",
    "temp_c = (((temp_f-32)*5)/9)\n",
    "print('A temperatura em graus Celsius é:', temp_c)"
   ]
  },
  {
   "cell_type": "markdown",
   "metadata": {
    "id": "_LFfv-s2Ax2o"
   },
   "source": [
    "**5)** Faça um programa que pede um número e imprime a tabuada de desse número."
   ]
  },
  {
   "cell_type": "code",
   "execution_count": 12,
   "metadata": {
    "id": "-p5CTJxiAx2o"
   },
   "outputs": [
    {
     "name": "stdout",
     "output_type": "stream",
     "text": [
      "Digite o número para cálculo da tabuada: 4\n",
      "A tabuada do número é: [4, 8, 12, 16, 20, 24, 28, 32, 36, 40]\n"
     ]
    }
   ],
   "source": [
    "import numpy as np\n",
    "n = int(input('Digite o número para cálculo da tabuada: '))\n",
    "vetor = np.arange(1,11)\n",
    "tabuada = n*vetor\n",
    "print('A tabuada do número é:', tabuada.tolist())"
   ]
  },
  {
   "cell_type": "markdown",
   "metadata": {
    "id": "0WjyN3o2s1PC"
   },
   "source": [
    "**6)** Faça um Programa que pergunte quanto você ganha por hora e o número de horas trabalhadas no mês. Calcule e mostre o total do seu salário no referido mês, sabendo-se que são descontados 11% para o Imposto de Renda, 8% para o INSS e 5% para o sindicato, faça um programa que nos dê:\n",
    "- Salário bruto.\n",
    "- Quanto pagou ao INSS.\n",
    "- Quanto pagou ao sindicato.\n",
    "- O salário líquido."
   ]
  },
  {
   "cell_type": "code",
   "execution_count": 16,
   "metadata": {
    "id": "jUAsGTQ-s1PC"
   },
   "outputs": [
    {
     "name": "stdout",
     "output_type": "stream",
     "text": [
      "Quantos reais você ganha por hora? 25\n",
      "Quantas horas você trabalha no mês? 220\n",
      "Seu salário bruto é: 5500.0\n",
      "Você pagou 440.0 reais ao INSS.\n",
      "Você pagou 275.0 reais ao sindicato.\n",
      "Seu salário líquido é: 4180.0\n"
     ]
    }
   ],
   "source": [
    "valor= float(input('Quantos reais você ganha por hora? '))\n",
    "horas = int(input('Quantas horas você trabalha no mês? '))\n",
    "salario_mensal =  valor*horas\n",
    "ir = (0.11*salario_mensal)\n",
    "inss = (0.08*salario_mensal)\n",
    "sind = (0.05*salario_mensal)\n",
    "salario_liq = (salario_mensal-ir-inss-sind)\n",
    "print('Seu salário bruto é:', salario_mensal)\n",
    "print(f'Você pagou {inss} reais ao INSS.')\n",
    "print(f'Você pagou {sind} reais ao sindicato.')\n",
    "print('Seu salário líquido é:', salario_liq)"
   ]
  },
  {
   "cell_type": "markdown",
   "metadata": {
    "id": "AaZKq2Wfs1PC"
   },
   "source": [
    "**7)** João Papo-de-Pescador, homem de bem, comprou um microcomputador para controlar o rendimento diário de seu trabalho. Toda vez que ele traz um peso de peixes maior que o estabelecido pelo regulamento de pesca do estado de São Paulo (50 quilos) deve pagar uma multa de R$ 4,00 por quilo excedente. João precisa que você faça um programa que leia a variável peso (peso de peixes) e calcule o excesso. Gravar na variável excesso a quantidade de quilos além do limite e na variável multa o valor da multa que João deverá pagar. Imprima os dados do programa com as mensagens adequadas."
   ]
  },
  {
   "cell_type": "code",
   "execution_count": 17,
   "metadata": {
    "id": "lvQpZRQKs1PC"
   },
   "outputs": [
    {
     "name": "stdout",
     "output_type": "stream",
     "text": [
      "Qual o total de peso pescado? 80\n",
      "A valor da multa é 120.0 reais.\n"
     ]
    }
   ],
   "source": [
    "peso = float(input('Qual o total de peso pescado? '))\n",
    "if peso>50:\n",
    "    excesso = peso-50\n",
    "else:\n",
    "    excesso = 0\n",
    "multa = excesso*4\n",
    "print(f'A valor da multa é {multa} reais.')"
   ]
  },
  {
   "cell_type": "markdown",
   "metadata": {
    "id": "70DJrG3ds1PD"
   },
   "source": [
    "**8)** Faça um Programa para uma loja de tintas. O programa deverá pedir o tamanho em metros quadrados da área a ser pintada. Considere que a cobertura da tinta é de 1 litro para cada 6 metros quadrados e que a tinta é vendida em latas de 18 litros, que custam 80,00 reais ou em galões de 3,6 litros, que custam 25,00 reais.<br>\n",
    "&emsp; Informe ao usuário as quantidades de tinta a serem compradas e os respectivos preços em 3 situações:\n",
    "- Comprar apenas latas de 18 litros;\n",
    "- Comprar apenas galões de 3,6 litros;\n",
    "- Misturar latas e galões, de forma que o desperdício de tinta seja menor. Podem considerar latas pela metade (valores decimais para quantidade de latas)"
   ]
  },
  {
   "cell_type": "code",
   "execution_count": null,
   "metadata": {},
   "outputs": [],
   "source": [
    "7.2//18"
   ]
  },
  {
   "cell_type": "code",
   "execution_count": 18,
   "metadata": {
    "id": "JvBYJ4Fks1PD"
   },
   "outputs": [
    {
     "name": "stdout",
     "output_type": "stream",
     "text": [
      "Qual a área em metros quadrados? 25\n",
      "Considerando apenas latas, compre 1.0 latas, pelo valor de 80.0 reais.\n",
      "Considerando apenas galões, compre 2.0 galões, pelo valor de 50.0 reais.\n",
      "Considerando a melhor combinação, compre 0.0 latas e 2.0 galões, pelo valor de 50.0 reais.\n"
     ]
    }
   ],
   "source": [
    "m2 = float(input('Qual a área em metros quadrados? '))\n",
    "litros = m2/6\n",
    "\n",
    "#primeira situação\n",
    "if litros % 18 != 0:  \n",
    "    latas= litros //18 + 1 \n",
    "else:\n",
    "    latas = litros/18\n",
    "preco1 = latas * 80\n",
    "\n",
    "#segunda situação\n",
    "if litros % 3.6 != 0:  \n",
    "    galoes= litros // 3.6 + 1 \n",
    "else:\n",
    "    galoes = litros/3.6\n",
    "preco2 = galoes * 25\n",
    "    \n",
    "#terceira situação\n",
    "latas_mist = litros//18\n",
    "if (litros%18)%3.6 != 0:\n",
    "    galoes_mist = (litros%18)//3.6 +1\n",
    "else:\n",
    "    galoes_mist = (litros%18)/3.6\n",
    "preco3 = (latas_mist*80)+(galoes_mist*25)\n",
    "\n",
    "print(f'Considerando apenas latas, compre {latas} latas, pelo valor de {preco1} reais.')\n",
    "print(f'Considerando apenas galões, compre {galoes} galões, pelo valor de {preco2} reais.')\n",
    "print(f'Considerando a melhor combinação, compre {latas_mist} latas e {galoes_mist} galões, pelo valor de {preco3} reais.')"
   ]
  },
  {
   "cell_type": "markdown",
   "metadata": {
    "id": "n6wuRFjVs1PD"
   },
   "source": [
    "## 🌌 O futuro... 🌌 <a class=\"anchor\" id=\"seis\"></a>\n",
    "\n",
    "&emsp; Treinem bastante esses conteúdos, se habituem com os ambientes de programação e com os diferentes dados que podemos lidar, na próxima aula iremos entender condicionais e a partir dai teremos cada vez mais possibilidades de exercícios e, portanto, de aplicações dos nossos conhecimentos.\n",
    "\n",
    "# Acabooou! 🎉 Agradeço pela atenção de todos! 😄\n",
    "## Qualquer duvida não hesitem em me chamar. 👩‍💻"
   ]
  }
 ],
 "metadata": {
  "colab": {
   "collapsed_sections": [],
   "name": "Aula 1 - Introducao.ipynb",
   "provenance": []
  },
  "kernelspec": {
   "display_name": "Python 3 (ipykernel)",
   "language": "python",
   "name": "python3"
  },
  "language_info": {
   "codemirror_mode": {
    "name": "ipython",
    "version": 3
   },
   "file_extension": ".py",
   "mimetype": "text/x-python",
   "name": "python",
   "nbconvert_exporter": "python",
   "pygments_lexer": "ipython3",
   "version": "3.9.7"
  }
 },
 "nbformat": 4,
 "nbformat_minor": 1
}
