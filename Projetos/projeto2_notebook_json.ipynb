{
 "cells": [
  {
   "cell_type": "code",
   "execution_count": null,
   "metadata": {},
   "outputs": [],
   "source": [
    "import json\n",
    "with open"
   ]
  },
  {
   "cell_type": "code",
   "execution_count": null,
   "metadata": {},
   "outputs": [],
   "source": [
    "def cadastro(nome, email, generos, instrumentos):\n",
    "    with open('banco_de_dados.json', 'a+') as arquivo:\n",
    "        lista_dicts = json.loads(arquivo)\n",
    "        for dict in lista_dicts:\n",
    "            if dict['email'] == email:\n",
    "                raise Exception\n",
    "        dict_cadastro = {\n",
    "                        'nome' : nome, \n",
    "                        'email' email, \n",
    "                        'generos' : generos, \n",
    "                        'instrumentos' : instrumentos\n",
    "                        }\n",
    "        lista_dicst_att = lista_dicts.update(dict_cadastro)\n",
    "        string_json = json.dumps(lista_dicst_att)\n",
    "        arquivo.write(string_json)"
   ]
  }
 ],
 "metadata": {
  "language_info": {
   "name": "python"
  },
  "orig_nbformat": 4
 },
 "nbformat": 4,
 "nbformat_minor": 2
}
