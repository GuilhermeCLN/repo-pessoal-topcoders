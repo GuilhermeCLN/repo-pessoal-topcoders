{
 "cells": [
  {
   "cell_type": "code",
   "execution_count": null,
   "metadata": {},
   "outputs": [],
   "source": [
    "import json\n",
    "with open"
   ]
  },
  {
   "cell_type": "code",
   "execution_count": null,
   "metadata": {},
   "outputs": [],
   "source": [
    "def cadastro(nome, email, generos, instrumentos):\n",
    "    with open('banco_de_dados.json', 'a+') as arquivo:\n",
    "        dicionario = json.loads(arquivo)\n",
    "        for dict in dicionario:\n",
    "            if email == \n"
   ]
  }
 ],
 "metadata": {
  "language_info": {
   "name": "python"
  },
  "orig_nbformat": 4
 },
 "nbformat": 4,
 "nbformat_minor": 2
}
