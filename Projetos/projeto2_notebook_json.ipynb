{
 "cells": [
  {
   "cell_type": "code",
   "execution_count": 45,
   "metadata": {},
   "outputs": [],
   "source": [
    "import json\n",
    "path = 'banco_de_dados.json'\n",
    "with open(path, 'w') as arquivo:\n",
    "    lista_dicts_in = [{'nome':'teste', 'email':'teste', 'generos':'teste', 'instrumentos':'teste'}]\n",
    "    json_string = json.dumps(lista_dicts_in)\n",
    "    arquivo.write(json_string)"
   ]
  },
  {
   "cell_type": "code",
   "execution_count": 49,
   "metadata": {},
   "outputs": [
    {
     "name": "stdout",
     "output_type": "stream",
     "text": [
      "None\n"
     ]
    }
   ],
   "source": [
    "lista_dicts = carregar_json(path)\n",
    "lista_dicts_att = cadastrar_musicos('teste', 'teste 2', 'teste', 'teste', lista_dicts)\n",
    "print(lista_dicts_att)\n",
    "#salvar_json(path, lista_dicts_att)"
   ]
  },
  {
   "cell_type": "code",
   "execution_count": 32,
   "metadata": {},
   "outputs": [],
   "source": [
    "def carregar_json(path:str):\n",
    "    with open(path, 'r') as arquivo:\n",
    "        lista_dicts = json.load(arquivo)\n",
    "    return lista_dicts"
   ]
  },
  {
   "cell_type": "code",
   "execution_count": 43,
   "metadata": {},
   "outputs": [],
   "source": [
    "def salvar_json(path:str, lista_dicts:list)->None:\n",
    "    string_json = json.dumps(lista_dicts)\n",
    "    with open(path, 'w') as arquivo:\n",
    "        arquivo.write(string_json)\n",
    "    return None"
   ]
  },
  {
   "cell_type": "code",
   "execution_count": 30,
   "metadata": {},
   "outputs": [],
   "source": [
    "def cadastrar_musicos(nome:str, email:str, generos:list, instrumentos:list, lista_dicts:list):\n",
    "    for dict in lista_dicts:\n",
    "        if dict['email'] == email:\n",
    "            raise Exception('Usuário já cadastrado no sistema.')\n",
    "    dict_cadastro = {\n",
    "                    'nome' : nome, \n",
    "                    'email': email, \n",
    "                    'generos' : generos, \n",
    "                    'instrumentos' : instrumentos\n",
    "                    }\n",
    "    lista_dicts_att = lista_dicts.append(dict_cadastro)\n",
    "    return lista_dicts_att"
   ]
  },
  {
   "cell_type": "code",
   "execution_count": 15,
   "metadata": {},
   "outputs": [],
   "source": [
    "def buscar_musicos(lista_dicts:list, ou:bool, nome:str = None, email:str = None, generos:list = None, instrumentos:list = None):\n",
    "    with open('banco_de_dados.json', 'r') as arquivo:\n",
    "        lista_dicts = json.loads(arquivo)\n",
    "    if not ou:\n",
    "        lista_consulta = lista_dicts.copy()\n",
    "        if email:\n",
    "            for dict in lista_consulta:\n",
    "                if dict['email'] != email:\n",
    "                    lista_consulta.pop(lista_consulta.index(dict))\n",
    "        else:\n",
    "            if nome:\n",
    "                for dict in lista_dicts:\n",
    "                    if dict['nome'] != nome:\n",
    "                        lista_consulta.pop(lista_consulta.index(dict))\n",
    "            if generos:\n",
    "                for dict in lista_dicts:\n",
    "                    if generos not in dict['generos']:\n",
    "                        lista_consulta.pop(lista_consulta.index(dict))\n",
    "            if instrumentos:\n",
    "               for dict in lista_dicts:\n",
    "                    if instrumentos not in dict['instrumentos']:\n",
    "                        lista_consulta.pop(lista_consulta.index(dict)) \n",
    "    elif ou:\n",
    "        if email:\n",
    "            for dict in lista_consulta:\n",
    "                if dict['email'] == email:\n",
    "                    lista_consulta.append(dict)\n",
    "        else:\n",
    "            if nome:\n",
    "                for dict in lista_dicts:\n",
    "                    if dict['nome'] == nome:\n",
    "                        lista_consulta.append(dict)\n",
    "            if generos:\n",
    "                for dict in lista_dicts:\n",
    "                    if generos in dict['generos']:\n",
    "                        lista_consulta.append(dict)\n",
    "            if instrumentos:\n",
    "               for dict in lista_dicts:\n",
    "                    if instrumentos in dict['instrumentos']:\n",
    "                        lista_consulta.append(dict)        \n",
    "    return lista_consulta"
   ]
  },
  {
   "cell_type": "code",
   "execution_count": 13,
   "metadata": {},
   "outputs": [],
   "source": [
    "def modificar_musicos( lista_dicts:list, email:str, remover:bool, generos:list = None, instrumentos:list = None):\n",
    "    with open('banco_de_dados.json', 'r') as arquivo:\n",
    "        lista_dicts = json.loads(arquivo)\n",
    "    for dict in lista_dicts:\n",
    "        if dict['email'] != email:\n",
    "            if remover:\n",
    "                if generos:\n",
    "                    dict['generos'].remove(generos)\n",
    "                if instrumentos:\n",
    "                    dict['instrumentos'].remove(instrumentos)\n",
    "            elif not remover:\n",
    "                if generos:\n",
    "                    dict['generos'].append(generos)\n",
    "                if instrumentos:\n",
    "                    dict['instrumentos'].append(instrumentos)\n",
    "    return lista_dicts"
   ]
  },
  {
   "cell_type": "code",
   "execution_count": 9,
   "metadata": {},
   "outputs": [],
   "source": [
    "def montar_bandas(num_musicos:int, instrumentos:list, genero:str, lista_dicts:list):\n",
    "    with open('banco_de_dados.json', 'r') as arquivo:\n",
    "        lista_dicts = json.loads(arquivo)\n",
    "    "
   ]
  },
  {
   "cell_type": "code",
   "execution_count": null,
   "metadata": {},
   "outputs": [],
   "source": []
  }
 ],
 "metadata": {
  "kernelspec": {
   "display_name": "Python 3.9.7 ('base')",
   "language": "python",
   "name": "python3"
  },
  "language_info": {
   "codemirror_mode": {
    "name": "ipython",
    "version": 3
   },
   "file_extension": ".py",
   "mimetype": "text/x-python",
   "name": "python",
   "nbconvert_exporter": "python",
   "pygments_lexer": "ipython3",
   "version": "3.9.7"
  },
  "orig_nbformat": 4,
  "vscode": {
   "interpreter": {
    "hash": "475e1a16712c75e6f420dc241e46e3a20593f7174cc3b6fcebdfcd1763efcb65"
   }
  }
 },
 "nbformat": 4,
 "nbformat_minor": 2
}
