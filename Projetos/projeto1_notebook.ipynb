{
 "cells": [
  {
   "cell_type": "code",
   "execution_count": null,
   "metadata": {},
   "outputs": [],
   "source": [
    "import json\n",
    "import os.path\n",
    "import sys"
   ]
  },
  {
   "cell_type": "code",
   "execution_count": null,
   "metadata": {},
   "outputs": [],
   "source": [
    "def obter_dados():\n",
    "    '''\n",
    "    Essa função carrega os dados dos produtos e retorna uma lista de dicionários, onde cada dicionário representa um produto.\n",
    "    NÃO MODIFIQUE essa função.\n",
    "    '''\n",
    "    with open(os.path.join(sys.path[0], 'dados.json'), 'r') as arq:\n",
    "        dados = json.loads(arq.read())\n",
    "    return dados\n",
    "\n",
    "dados = obter_dados()"
   ]
  },
  {
   "cell_type": "code",
   "execution_count": null,
   "metadata": {},
   "outputs": [],
   "source": [
    "def listar_categorias(dados):\n",
    "    '''\n",
    "    O parâmetro \"dados\" deve ser uma lista de dicionários representando os produtos.\n",
    "    Essa função deverá retornar uma lista contendo todas as categorias dos diferentes produtos.\n",
    "    Cuidado para não retornar categorias repetidas.    \n",
    "    '''\n",
    "    lista_cat = []\n",
    "    for dic in dados:\n",
    "        if dic['categoria'] not in lista_cat:\n",
    "            lista_cat.append(dic['categoria'])\n",
    "    return lista_cat"
   ]
  },
  {
   "cell_type": "code",
   "execution_count": null,
   "metadata": {},
   "outputs": [],
   "source": [
    "def listar_por_categoria(dados, categoria):\n",
    "    '''\n",
    "    O parâmetro \"dados\" deve ser uma lista de dicionários representando os produtos.\n",
    "    O parâmetro \"categoria\" é uma string contendo o nome de uma categoria.\n",
    "    Essa função deverá retornar uma lista contendo todos os produtos pertencentes à categoria dada.\n",
    "    '''\n",
    "    lista_prod_cat = []\n",
    "    for dic in dados:\n",
    "        if dic['categoria'] == categoria:\n",
    "            lista_prod_cat.append(dic)\n",
    "    return lista_prod_cat"
   ]
  },
  {
   "cell_type": "code",
   "execution_count": null,
   "metadata": {},
   "outputs": [],
   "source": [
    "def produto_mais_caro(dados, categoria):\n",
    "    '''\n",
    "    O parâmetro \"dados\" deve ser uma lista de dicionários representando os produtos.\n",
    "    O parâmetro \"categoria\" é uma string contendo o nome de uma categoria.\n",
    "    Essa função deverá retornar um dicionário representando o produto mais caro da categoria dada.\n",
    "    '''\n",
    "    lista_prod_cat = listar_por_categoria(dados, categoria)\n",
    "    prod_mais_caro = sorted(lista_prod_cat, key = lambda x: float(x['preco']), reverse = True)[0]\n",
    "    return prod_mais_caro"
   ]
  },
  {
   "cell_type": "code",
   "execution_count": null,
   "metadata": {},
   "outputs": [],
   "source": [
    "def produto_mais_barato(dados, categoria):\n",
    "    '''\n",
    "    O parâmetro \"dados\" deve ser uma lista de dicionários representando os produtos.\n",
    "    O parâmetro \"categoria\" é uma string contendo o nome de uma categoria.\n",
    "    Essa função deverá retornar um dicionário representando o produto mais barato da categoria dada.\n",
    "    '''\n",
    "    lista_prod_cat = listar_por_categoria(dados, categoria)\n",
    "    prod_mais_barato = sorted(lista_prod_cat, key = lambda x: float(x['preco']))[0]\n",
    "    return prod_mais_barato"
   ]
  },
  {
   "cell_type": "code",
   "execution_count": null,
   "metadata": {},
   "outputs": [],
   "source": [
    "def top_10_caros(dados):\n",
    "    '''\n",
    "    O parâmetro \"dados\" deve ser uma lista de dicionários representando os produtos.\n",
    "    Essa função deverá retornar uma lista de dicionários representando os 10 produtos mais caros.\n",
    "    '''\n",
    "    podio_caros = sorted(dados, key = lambda x: float(x['preco']), reverse = True)[0:9]\n",
    "    return podio_caros\n",
    "        "
   ]
  },
  {
   "cell_type": "code",
   "execution_count": null,
   "metadata": {},
   "outputs": [],
   "source": [
    "def top_10_baratos(dados):\n",
    "    '''\n",
    "    O parâmetro \"dados\" deve ser uma lista de dicionários representando os produtos.\n",
    "    Essa função deverá retornar uma lista de dicionários representando os 10 produtos mais baratos.\n",
    "    '''\n",
    "    podio_baratos = sorted(dados, key = lambda x: float(x['preco']))[0:9]\n",
    "    return podio_baratos"
   ]
  },
  {
   "cell_type": "code",
   "execution_count": null,
   "metadata": {},
   "outputs": [],
   "source": [
    "def menu(dados):\n",
    "    '''\n",
    "    - Ler a opção do usuário.\n",
    "    '''\n",
    "    opcoes = {\n",
    "    '1': listar_categorias,\n",
    "    '2': listar_por_categoria,\n",
    "    '3': produto_mais_caro,\n",
    "    '4': produto_mais_barato,\n",
    "    '5': top_10_caros,\n",
    "    '6': top_10_baratos}\n",
    "    \n",
    "    n = 1\n",
    "\n",
    "    while n != '0':\n",
    "        n = input('Olá, seja bem vindo ao menu de análise dos dados de produto! Escolha uma das opções abaixo e digite o número de referência.\\n'\n",
    "                    '1. Listar categorias\\n'\n",
    "                    '2. Listar produtos de uma categoria\\n'\n",
    "                    '3. Produto mais caro por categoria\\n'\n",
    "                    '4. Produto mais barato por categoria\\n'\n",
    "                    '5. Top 10 produtos mais caros\\n'\n",
    "                    '6. Top 10 produtos mais baratos\\n'\n",
    "                    '0. Sair\\n')\n",
    "\n",
    "        if n == '2' or n == '3' or n == '4':\n",
    "            categoria = input('Por favor, escolha uma categoria:')\n",
    "            chamador = lambda n, dados, categoria: opcoes[n](dados, categoria)\n",
    "            print(chamador(n, dados, categoria))\n",
    "\n",
    "        elif n == '0':\n",
    "            continue\n",
    "        \n",
    "        else:\n",
    "            chamador = lambda n, dados: opcoes[n](dados)\n",
    "            print(chamador(n, dados))"
   ]
  },
  {
   "cell_type": "code",
   "execution_count": null,
   "metadata": {},
   "outputs": [],
   "source": [
    "menu(dados)"
   ]
  },
  {
   "cell_type": "code",
   "execution_count": null,
   "metadata": {},
   "outputs": [],
   "source": [
    "def printer():\n",
    "\n",
    "    "
   ]
  }
 ],
 "metadata": {
  "interpreter": {
   "hash": "475e1a16712c75e6f420dc241e46e3a20593f7174cc3b6fcebdfcd1763efcb65"
  },
  "kernelspec": {
   "display_name": "Python 3.9.7 ('base')",
   "language": "python",
   "name": "python3"
  },
  "language_info": {
   "codemirror_mode": {
    "name": "ipython",
    "version": 3
   },
   "file_extension": ".py",
   "mimetype": "text/x-python",
   "name": "python",
   "nbconvert_exporter": "python",
   "pygments_lexer": "ipython3",
   "version": "3.9.7"
  },
  "orig_nbformat": 4
 },
 "nbformat": 4,
 "nbformat_minor": 2
}
