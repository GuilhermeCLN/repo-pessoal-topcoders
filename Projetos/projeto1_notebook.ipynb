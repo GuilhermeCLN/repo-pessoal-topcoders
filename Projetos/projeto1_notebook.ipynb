{
 "cells": [
  {
   "cell_type": "code",
   "execution_count": null,
   "metadata": {},
   "outputs": [],
   "source": [
    "import json\n",
    "import os.path\n",
    "import sys"
   ]
  },
  {
   "cell_type": "code",
   "execution_count": null,
   "metadata": {},
   "outputs": [],
   "source": [
    "def obter_dados():\n",
    "    '''\n",
    "    Essa função carrega os dados dos produtos e retorna uma lista de dicionários, onde cada dicionário representa um produto.\n",
    "    NÃO MODIFIQUE essa função.\n",
    "    '''\n",
    "    with open(os.path.join(sys.path[0], 'dados.json'), 'r') as arq:\n",
    "        dados = json.loads(arq.read())\n",
    "    return dados"
   ]
  },
  {
   "cell_type": "code",
   "execution_count": null,
   "metadata": {},
   "outputs": [],
   "source": [
    "def listar_categorias(dados):\n",
    "    '''\n",
    "    O parâmetro \"dados\" deve ser uma lista de dicionários representando os produtos.\n",
    "    Essa função deverá retornar uma lista contendo todas as categorias dos diferentes produtos.\n",
    "    Cuidado para não retornar categorias repetidas.    \n",
    "    '''\n",
    "    lista_cat = []\n",
    "    for dic in dados:\n",
    "        if dic['categoria'] not in lista_cat:\n",
    "            lista_cat.append(dic['categoria'])\n",
    "    return lista_cat"
   ]
  },
  {
   "cell_type": "code",
   "execution_count": null,
   "metadata": {},
   "outputs": [],
   "source": [
    "dados = obter_dados()\n",
    "lista_cat = listar_categorias(dados)"
   ]
  }
 ],
 "metadata": {
  "language_info": {
   "name": "python"
  },
  "orig_nbformat": 4
 },
 "nbformat": 4,
 "nbformat_minor": 2
}
