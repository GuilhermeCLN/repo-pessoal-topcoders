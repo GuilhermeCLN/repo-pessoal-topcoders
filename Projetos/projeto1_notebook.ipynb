{
 "cells": [
  {
   "cell_type": "code",
   "execution_count": 2,
   "metadata": {},
   "outputs": [],
   "source": [
    "import json\n",
    "import os.path\n",
    "import sys"
   ]
  },
  {
   "cell_type": "code",
   "execution_count": 3,
   "metadata": {},
   "outputs": [],
   "source": [
    "def obter_dados():\n",
    "    '''\n",
    "    Essa função carrega os dados dos produtos e retorna uma lista de dicionários, onde cada dicionário representa um produto.\n",
    "    NÃO MODIFIQUE essa função.\n",
    "    '''\n",
    "    with open(os.path.join(sys.path[0], 'dados.json'), 'r') as arq:\n",
    "        dados = json.loads(arq.read())\n",
    "    return dados\n",
    "\n",
    "dados = obter_dados()"
   ]
  },
  {
   "cell_type": "code",
   "execution_count": 4,
   "metadata": {},
   "outputs": [],
   "source": [
    "def listar_categorias(dados):\n",
    "    '''\n",
    "    O parâmetro \"dados\" deve ser uma lista de dicionários representando os produtos.\n",
    "    Essa função deverá retornar uma lista contendo todas as categorias dos diferentes produtos.\n",
    "    Cuidado para não retornar categorias repetidas.    \n",
    "    '''\n",
    "    lista_cat = []\n",
    "    for dic in dados:\n",
    "        if dic['categoria'] not in lista_cat:\n",
    "            lista_cat.append(dic['categoria'])\n",
    "    return lista_cat\n",
    "\n",
    "#lista_cat = listar_categorias(dados)"
   ]
  },
  {
   "cell_type": "code",
   "execution_count": 5,
   "metadata": {},
   "outputs": [],
   "source": [
    "def listar_por_categoria(dados, categoria):\n",
    "    '''\n",
    "    O parâmetro \"dados\" deve ser uma lista de dicionários representando os produtos.\n",
    "    O parâmetro \"categoria\" é uma string contendo o nome de uma categoria.\n",
    "    Essa função deverá retornar uma lista contendo todos os produtos pertencentes à categoria dada.\n",
    "    '''\n",
    "    lista_prod_cat = []\n",
    "    for dic in dados:\n",
    "        if dic['categoria'] == categoria:\n",
    "            lista_prod_cat.append(dic)\n",
    "    return lista_prod_cat\n",
    "\n",
    "#lista_prod_cat = listar_por_categoria(dados, 'perfumaria')"
   ]
  },
  {
   "cell_type": "code",
   "execution_count": 28,
   "metadata": {},
   "outputs": [],
   "source": [
    "def produto_mais_caro(dados, categoria):\n",
    "    '''\n",
    "    O parâmetro \"dados\" deve ser uma lista de dicionários representando os produtos.\n",
    "    O parâmetro \"categoria\" é uma string contendo o nome de uma categoria.\n",
    "    Essa função deverá retornar um dicionário representando o produto mais caro da categoria dada.\n",
    "    '''\n",
    "    lista_prod_cat = listar_por_categoria(dados, categoria)\n",
    "    prod_mais_caro = sorted(lista_prod_cat, key = lambda x: float(x['preco']), reverse = True)[0]\n",
    "    return prod_mais_caro"
   ]
  },
  {
   "cell_type": "code",
   "execution_count": 29,
   "metadata": {},
   "outputs": [],
   "source": [
    "def produto_mais_barato(dados, categoria):\n",
    "    '''\n",
    "    O parâmetro \"dados\" deve ser uma lista de dicionários representando os produtos.\n",
    "    O parâmetro \"categoria\" é uma string contendo o nome de uma categoria.\n",
    "    Essa função deverá retornar um dicionário representando o produto mais barato da categoria dada.\n",
    "    '''\n",
    "    lista_prod_cat = listar_por_categoria(dados, categoria)\n",
    "    prod_mais_barato = sorted(lista_prod_cat, key = lambda x: float(x['preco']))[0]\n",
    "    return prod_mais_barato"
   ]
  },
  {
   "cell_type": "code",
   "execution_count": 32,
   "metadata": {},
   "outputs": [
    {
     "data": {
      "text/plain": [
       "[{'id': 'cf7b3745-3180-404c-a29b-d173eb29e6f3',\n",
       "  'preco': '4993.97',\n",
       "  'categoria': 'relogios_presentes'},\n",
       " {'id': '98b795e3-1b38-48ac-a5a3-4438cec09c91',\n",
       "  'preco': '4987.13',\n",
       "  'categoria': 'fraldas_higiene'},\n",
       " {'id': 'fc13c4f6-bf99-416e-90bb-cf7bf02e28d1',\n",
       "  'preco': '4986.94',\n",
       "  'categoria': 'construcao_ferramentas_iluminacao'},\n",
       " {'id': '2b71bfa9-8fab-439d-8106-f455fb0dd1bd',\n",
       "  'preco': '4983.43',\n",
       "  'categoria': 'flores'},\n",
       " {'id': '1d14cba2-14f6-4f19-bee1-dcc275f5a15c',\n",
       "  'preco': '4982.82',\n",
       "  'categoria': 'construcao_ferramentas_ferramentas'},\n",
       " {'id': 'dac61e08-f757-4636-a8d1-06450fc8bc0a',\n",
       "  'preco': '4981.87',\n",
       "  'categoria': 'telefonia'},\n",
       " {'id': '831667e7-d134-4898-b19c-062b9dc79673',\n",
       "  'preco': '4981.13',\n",
       "  'categoria': 'casa_construcao'},\n",
       " {'id': '0f570854-7cb4-4efe-8da0-0b29ccc75c13',\n",
       "  'preco': '4979.39',\n",
       "  'categoria': 'eletrodomesticos'},\n",
       " {'id': '056a2c47-f52e-4d8a-813f-7fdb1316ca51',\n",
       "  'preco': '4979.34',\n",
       "  'categoria': 'fashion_bolsas_e_acessorios'}]"
      ]
     },
     "execution_count": 32,
     "metadata": {},
     "output_type": "execute_result"
    }
   ],
   "source": [
    "def top_10_caros(dados):\n",
    "    '''\n",
    "    O parâmetro \"dados\" deve ser uma lista de dicionários representando os produtos.\n",
    "    Essa função deverá retornar uma lista de dicionários representando os 10 produtos mais caros.\n",
    "    '''\n",
    "    podio_caros = sorted(dados, key = lambda x: float(x['preco']), reverse = True)[0:9]\n",
    "    return podio_caros\n",
    "        "
   ]
  },
  {
   "cell_type": "code",
   "execution_count": 33,
   "metadata": {},
   "outputs": [],
   "source": [
    "def top_10_baratos(dados):\n",
    "    '''\n",
    "    O parâmetro \"dados\" deve ser uma lista de dicionários representando os produtos.\n",
    "    Essa função deverá retornar uma lista de dicionários representando os 10 produtos mais baratos.\n",
    "    '''\n",
    "    podio_baratos = sorted(dados, key = lambda x: float(x['preco']))[0:9]\n",
    "    return podio_baratos"
   ]
  },
  {
   "cell_type": "code",
   "execution_count": null,
   "metadata": {},
   "outputs": [],
   "source": [
    "def menu(dados):\n",
    "    '''\n",
    "    O parâmetro \"dados\" deve ser uma lista de dicionários representando os produtos.\n",
    "    Essa função deverá, em loop, realizar as seguintes ações:\n",
    "    - Exibir as seguintes opções:\n",
    "        1. Listar categorias\n",
    "        2. Listar produtos de uma categoria\n",
    "        3. Produto mais caro por categoria\n",
    "        4. Produto mais barato por categoria\n",
    "        5. Top 10 produtos mais caros\n",
    "        6. Top 10 produtos mais baratos\n",
    "        0. Sair\n",
    "    - Ler a opção do usuário.\n",
    "    - No caso de opção inválida, imprima uma mensagem de erro.\n",
    "    - No caso das opções 2, 3 ou 4, pedir para o usuário digitar a categoria desejada.\n",
    "    - Chamar a função adequada para tratar o pedido do usuário e salvar seu retorno.\n",
    "    - Imprimir o retorno salvo. \n",
    "    O loop encerra quando a opção do usuário for 0.\n",
    "    '''\n",
    "    ..."
   ]
  }
 ],
 "metadata": {
  "interpreter": {
   "hash": "475e1a16712c75e6f420dc241e46e3a20593f7174cc3b6fcebdfcd1763efcb65"
  },
  "kernelspec": {
   "display_name": "Python 3.9.7 ('base')",
   "language": "python",
   "name": "python3"
  },
  "language_info": {
   "codemirror_mode": {
    "name": "ipython",
    "version": 3
   },
   "file_extension": ".py",
   "mimetype": "text/x-python",
   "name": "python",
   "nbconvert_exporter": "python",
   "pygments_lexer": "ipython3",
   "version": "3.9.7"
  },
  "orig_nbformat": 4
 },
 "nbformat": 4,
 "nbformat_minor": 2
}
