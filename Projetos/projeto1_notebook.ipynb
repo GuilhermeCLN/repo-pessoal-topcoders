{
 "cells": [
  {
   "cell_type": "code",
   "execution_count": 1,
   "metadata": {},
   "outputs": [],
   "source": [
    "import json\n",
    "import os.path\n",
    "import sys"
   ]
  },
  {
   "cell_type": "code",
   "execution_count": 2,
   "metadata": {},
   "outputs": [],
   "source": [
    "def obter_dados():\n",
    "    '''\n",
    "    Essa função carrega os dados dos produtos e retorna uma lista de dicionários, onde cada dicionário representa um produto.\n",
    "    NÃO MODIFIQUE essa função.\n",
    "    '''\n",
    "    with open(os.path.join(sys.path[0], 'dados.json'), 'r') as arq:\n",
    "        dados = json.loads(arq.read())\n",
    "    return dados\n",
    "\n",
    "dados = obter_dados()"
   ]
  },
  {
   "cell_type": "code",
   "execution_count": 3,
   "metadata": {},
   "outputs": [],
   "source": [
    "def listar_categorias(dados):\n",
    "    '''\n",
    "    O parâmetro \"dados\" deve ser uma lista de dicionários representando os produtos.\n",
    "    Essa função deverá retornar uma lista contendo todas as categorias dos diferentes produtos.\n",
    "    Cuidado para não retornar categorias repetidas.    \n",
    "    '''\n",
    "    lista_cat = []\n",
    "    for dic in dados:\n",
    "        if dic['categoria'] not in lista_cat:\n",
    "            lista_cat.append(dic['categoria'])\n",
    "    return lista_cat\n",
    "\n",
    "lista_cat = listar_categorias(dados)"
   ]
  },
  {
   "cell_type": "code",
   "execution_count": 6,
   "metadata": {},
   "outputs": [],
   "source": [
    "def listar_por_categoria(dados, categoria):\n",
    "    '''\n",
    "    O parâmetro \"dados\" deve ser uma lista de dicionários representando os produtos.\n",
    "    O parâmetro \"categoria\" é uma string contendo o nome de uma categoria.\n",
    "    Essa função deverá retornar uma lista contendo todos os produtos pertencentes à categoria dada.\n",
    "    '''\n",
    "    lista_prod_cat = []\n",
    "    for dic in dados:\n",
    "        if dic['categoria'] == categoria:\n",
    "            lista_prod_cat.append(dic)\n",
    "    return lista_prod_cat\n",
    "\n",
    "lista_prod_cat = listar_por_categoria(dados, 'perfumaria')"
   ]
  },
  {
   "cell_type": "code",
   "execution_count": 7,
   "metadata": {},
   "outputs": [
    {
     "name": "stdout",
     "output_type": "stream",
     "text": [
      "[{'id': '6f6113df-588d-410b-8e41-0fe00072a9b6', 'preco': '529.48', 'categoria': 'perfumaria'}, {'id': '2e71e2ea-c12f-425b-95d6-6a478f736c43', 'preco': '3033.62', 'categoria': 'perfumaria'}, {'id': 'ed88b10d-8138-471f-91d4-413cda3fcc37', 'preco': '363.56', 'categoria': 'perfumaria'}, {'id': '5dda8f22-8e52-48b2-8a73-057b14259a50', 'preco': '3245.21', 'categoria': 'perfumaria'}, {'id': 'cf351031-b08c-4c4e-a4d0-08289643772c', 'preco': '2909.41', 'categoria': 'perfumaria'}, {'id': '7ba0ebbc-8d0a-4fb8-b969-caef6c2aeb67', 'preco': '3573.26', 'categoria': 'perfumaria'}, {'id': 'adf5f1f4-d335-4a6a-b39c-9f777c47b6d2', 'preco': '72.48', 'categoria': 'perfumaria'}, {'id': '7c3a2153-e63f-4b06-a8df-4834f4d35c21', 'preco': '3830.49', 'categoria': 'perfumaria'}, {'id': '5e6cb692-058e-4ae7-9e9b-812bafca0bf3', 'preco': '2450.36', 'categoria': 'perfumaria'}, {'id': '0cc54182-7650-4e26-ab97-93977abd2f24', 'preco': '597.97', 'categoria': 'perfumaria'}, {'id': '71b2ad4a-7bf0-4808-ac1d-7215a351de5b', 'preco': '2439.16', 'categoria': 'perfumaria'}, {'id': 'b7aafb50-941b-409a-ba61-2e49f9b8b4cf', 'preco': '2206.60', 'categoria': 'perfumaria'}, {'id': '4d1d9e77-d143-49ef-b250-7df9271a3630', 'preco': '42.64', 'categoria': 'perfumaria'}, {'id': '8dfba83f-740e-444f-910f-9d0347c63a55', 'preco': '2844.10', 'categoria': 'perfumaria'}, {'id': '6c7087f4-463f-4f44-a4e8-5335825621f3', 'preco': '3117.02', 'categoria': 'perfumaria'}, {'id': 'eb98444a-e0c1-43a6-a739-3d7f0a65aff1', 'preco': '1463.52', 'categoria': 'perfumaria'}, {'id': '9d0ca7c7-4d2e-4a54-8b91-2c1991d141b1', 'preco': '4511.93', 'categoria': 'perfumaria'}, {'id': 'f37a6779-1163-4c4d-8fcd-5f1a065aaef2', 'preco': '21.69', 'categoria': 'perfumaria'}]\n"
     ]
    }
   ],
   "source": [
    "print(lista_prod_cat)\n",
    "\n"
   ]
  },
  {
   "cell_type": "code",
   "execution_count": null,
   "metadata": {},
   "outputs": [],
   "source": []
  }
 ],
 "metadata": {
  "interpreter": {
   "hash": "475e1a16712c75e6f420dc241e46e3a20593f7174cc3b6fcebdfcd1763efcb65"
  },
  "kernelspec": {
   "display_name": "Python 3.9.7 ('base')",
   "language": "python",
   "name": "python3"
  },
  "language_info": {
   "codemirror_mode": {
    "name": "ipython",
    "version": 3
   },
   "file_extension": ".py",
   "mimetype": "text/x-python",
   "name": "python",
   "nbconvert_exporter": "python",
   "pygments_lexer": "ipython3",
   "version": "3.9.7"
  },
  "orig_nbformat": 4
 },
 "nbformat": 4,
 "nbformat_minor": 2
}
