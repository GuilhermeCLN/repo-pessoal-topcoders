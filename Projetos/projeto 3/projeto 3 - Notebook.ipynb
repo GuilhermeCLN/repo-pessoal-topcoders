{
 "cells": [
  {
   "cell_type": "markdown",
   "metadata": {},
   "source": [
    "# Objetivos #\n",
    "- Fazer uma análise exploratória de dados através dos anos 2015 até 2019.\n",
    "- Para responder as perguntas:\n",
    "    - Quais foram as alterações ano a ano no ranking dos primeiros 10 países. \n",
    "    - Considerando a média de todas as variáveis, quais foram as 3 variáveis que mais mudaram ano a ano.(Sem contar o score ou ranking)\n",
    "    - Quais foram os top 3 países que mais tiveram mudança positiva e negativa de GPD.\n",
    "    - Qual foi o país que mais subiu no ranking no período inteiro analisado.\n",
    "    - Teve países que saíram ou entraram do index.\n",
    "    - Quais foram os 3 países que mais tiveram mudança na expectativa de vida, positiva e negativa.\n",
    "    - até 2 questões extras que vocês acham interessante analisar."
   ]
  },
  {
   "cell_type": "code",
   "execution_count": null,
   "metadata": {},
   "outputs": [],
   "source": [
    "import pandas as pd\n",
    "import numpy as np"
   ]
  },
  {
   "cell_type": "markdown",
   "metadata": {},
   "source": [
    "Importando os datasets"
   ]
  },
  {
   "cell_type": "code",
   "execution_count": null,
   "metadata": {},
   "outputs": [],
   "source": [
    "df_2015 = pd.read_csv(r'C:\\Users\\Guilerme\\Repositórios de códigos\\repo-pessoal-topcoders\\Projetos\\projeto 3\\World Happiness Report\\2015.csv', delimiter=',')\n",
    "df_2016 = pd.read_csv(r'C:\\Users\\Guilerme\\Repositórios de códigos\\repo-pessoal-topcoders\\Projetos\\projeto 3\\World Happiness Report\\2016.csv', delimiter=',')\n",
    "df_2017 = pd.read_csv(r'C:\\Users\\Guilerme\\Repositórios de códigos\\repo-pessoal-topcoders\\Projetos\\projeto 3\\World Happiness Report\\2017.csv', delimiter=',')\n",
    "df_2018 = pd.read_csv(r'C:\\Users\\Guilerme\\Repositórios de códigos\\repo-pessoal-topcoders\\Projetos\\projeto 3\\World Happiness Report\\2018.csv', delimiter=',')\n",
    "df_2019 = pd.read_csv(r'C:\\Users\\Guilerme\\Repositórios de códigos\\repo-pessoal-topcoders\\Projetos\\projeto 3\\World Happiness Report\\2019.csv', delimiter=',')\n",
    "df_geral = df_2015 "
   ]
  },
  {
   "cell_type": "code",
   "execution_count": null,
   "metadata": {},
   "outputs": [],
   "source": [
    "print(df_2015.info())"
   ]
  },
  {
   "cell_type": "code",
   "execution_count": null,
   "metadata": {},
   "outputs": [],
   "source": [
    "print(df_2016.info())"
   ]
  },
  {
   "cell_type": "code",
   "execution_count": null,
   "metadata": {},
   "outputs": [],
   "source": [
    "print(df_2017.info())"
   ]
  },
  {
   "cell_type": "code",
   "execution_count": null,
   "metadata": {},
   "outputs": [],
   "source": [
    "print(df_2018.info())"
   ]
  },
  {
   "cell_type": "code",
   "execution_count": null,
   "metadata": {},
   "outputs": [],
   "source": [
    "print(df_2019.info())"
   ]
  }
 ],
 "metadata": {
  "kernelspec": {
   "display_name": "Python 3.9.7 ('base')",
   "language": "python",
   "name": "python3"
  },
  "language_info": {
   "codemirror_mode": {
    "name": "ipython",
    "version": 3
   },
   "file_extension": ".py",
   "mimetype": "text/x-python",
   "name": "python",
   "nbconvert_exporter": "python",
   "pygments_lexer": "ipython3",
   "version": "3.9.7"
  },
  "orig_nbformat": 4,
  "vscode": {
   "interpreter": {
    "hash": "475e1a16712c75e6f420dc241e46e3a20593f7174cc3b6fcebdfcd1763efcb65"
   }
  }
 },
 "nbformat": 4,
 "nbformat_minor": 2
}
