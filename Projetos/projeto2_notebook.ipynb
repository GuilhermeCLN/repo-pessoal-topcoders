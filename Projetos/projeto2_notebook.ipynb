{
 "cells": [
  {
   "cell_type": "markdown",
   "metadata": {},
   "source": [
    "cadastro"
   ]
  },
  {
   "cell_type": "code",
   "execution_count": 11,
   "metadata": {},
   "outputs": [],
   "source": [
    "import csv\n",
    "\n",
    "with open('cadastro.csv', 'w') as arquivo:\n",
    "    cabecalhos = csv.writer(arquivo, delimiter=';', lineterminator='\\n')\n",
    "    cabecalhos.writerow(['nome', 'email', 'generos', 'instrumentos'])\n"
   ]
  },
  {
   "cell_type": "code",
   "execution_count": 12,
   "metadata": {},
   "outputs": [],
   "source": [
    "def cadastro(nome, email, generos, instrumentos):\n",
    "    with open('cadastro.csv', 'r') as arquivo:\n",
    "        tabela = list(csv.reader(arquivo, delimiter=';', lineterminator='\\n'))\n",
    "    \n",
    "    for lista in tabela:\n",
    "        if email == lista[1]:\n",
    "            print('já existe esse email')\n",
    "            break\n",
    "    \n",
    "    with open ('cadastro.csv', 'a') as arquivo:\n",
    "        escritor = csv.writer(arquivo, delimiter=';', lineterminator='\\n')\n",
    "        escritor.writerow([nome, email, generos, instrumentos])"
   ]
  },
  {
   "cell_type": "code",
   "execution_count": 13,
   "metadata": {},
   "outputs": [],
   "source": [
    "cadastro('gerson', 'sdjsakd', ['asdasd', 'kjsada'], ['skdjas', 'sjudhiuads'])"
   ]
  },
  {
   "cell_type": "code",
   "execution_count": 17,
   "metadata": {},
   "outputs": [
    {
     "ename": "TypeError",
     "evalue": "'_csv.reader' object is not callable",
     "output_type": "error",
     "traceback": [
      "\u001b[1;31m---------------------------------------------------------------------------\u001b[0m",
      "\u001b[1;31mTypeError\u001b[0m                                 Traceback (most recent call last)",
      "\u001b[1;32mc:\\Users\\Guilerme\\Repositórios de códigos\\repo-pessoal-topcoders\\Projetos\\projeto2_notebook.ipynb Cell 5'\u001b[0m in \u001b[0;36m<cell line: 1>\u001b[1;34m()\u001b[0m\n\u001b[0;32m      <a href='vscode-notebook-cell:/c%3A/Users/Guilerme/Reposit%C3%B3rios%20de%20c%C3%B3digos/repo-pessoal-topcoders/Projetos/projeto2_notebook.ipynb#ch0000007?line=0'>1</a>\u001b[0m \u001b[39mwith\u001b[39;00m \u001b[39mopen\u001b[39m(\u001b[39m'\u001b[39m\u001b[39mcadastro.csv\u001b[39m\u001b[39m'\u001b[39m, \u001b[39m'\u001b[39m\u001b[39mr\u001b[39m\u001b[39m'\u001b[39m) \u001b[39mas\u001b[39;00m arquivo:\n\u001b[0;32m      <a href='vscode-notebook-cell:/c%3A/Users/Guilerme/Reposit%C3%B3rios%20de%20c%C3%B3digos/repo-pessoal-topcoders/Projetos/projeto2_notebook.ipynb#ch0000007?line=1'>2</a>\u001b[0m     tabela \u001b[39m=\u001b[39m csv\u001b[39m.\u001b[39mreader(arquivo, delimiter\u001b[39m=\u001b[39m\u001b[39m'\u001b[39m\u001b[39m;\u001b[39m\u001b[39m'\u001b[39m, lineterminator\u001b[39m=\u001b[39m\u001b[39m'\u001b[39m\u001b[39m\\n\u001b[39;00m\u001b[39m'\u001b[39m)\n\u001b[1;32m----> <a href='vscode-notebook-cell:/c%3A/Users/Guilerme/Reposit%C3%B3rios%20de%20c%C3%B3digos/repo-pessoal-topcoders/Projetos/projeto2_notebook.ipynb#ch0000007?line=2'>3</a>\u001b[0m     \u001b[39mprint\u001b[39m(tabela(\u001b[39m1\u001b[39;49m))\n",
      "\u001b[1;31mTypeError\u001b[0m: '_csv.reader' object is not callable"
     ]
    }
   ],
   "source": [
    "with open('cadastro.csv', 'r') as arquivo:\n",
    "    tabela = csv.reader(arquivo, delimiter=';', lineterminator='\\n')\n",
    "    print(tabela(1))"
   ]
  },
  {
   "cell_type": "code",
   "execution_count": null,
   "metadata": {},
   "outputs": [],
   "source": []
  }
 ],
 "metadata": {
  "interpreter": {
   "hash": "475e1a16712c75e6f420dc241e46e3a20593f7174cc3b6fcebdfcd1763efcb65"
  },
  "kernelspec": {
   "display_name": "Python 3.9.7 ('base')",
   "language": "python",
   "name": "python3"
  },
  "language_info": {
   "codemirror_mode": {
    "name": "ipython",
    "version": 3
   },
   "file_extension": ".py",
   "mimetype": "text/x-python",
   "name": "python",
   "nbconvert_exporter": "python",
   "pygments_lexer": "ipython3",
   "version": "3.9.7"
  },
  "orig_nbformat": 4
 },
 "nbformat": 4,
 "nbformat_minor": 2
}
