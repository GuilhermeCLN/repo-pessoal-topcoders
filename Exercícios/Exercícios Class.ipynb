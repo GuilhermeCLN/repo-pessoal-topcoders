{
 "cells": [
  {
   "cell_type": "markdown",
   "id": "88caecf2-5ecf-41f4-96dd-00556f5a493a",
   "metadata": {},
   "source": [
    "Exercício LC | While\n",
    " \n",
    "Enunciado\n",
    "Faça um programa que peça ao usuário um número e imprima todos os números de um até o número dado.\n",
    "\n",
    "Exemplo:\n",
    "\n",
    "digite: 5\n",
    "\n",
    "imprime: 1 2 3 4 5"
   ]
  },
  {
   "cell_type": "code",
   "execution_count": 2,
   "id": "2691d64b-2e7f-42e8-aabf-540e0da8f692",
   "metadata": {},
   "outputs": [
    {
     "name": "stdin",
     "output_type": "stream",
     "text": [
      "Informe o número inteiro final:  -1\n"
     ]
    }
   ],
   "source": [
    "n = int(input('Informe o número inteiro final: '))\n",
    "i=1\n",
    "while i<=n:\n",
    "    print(i)\n",
    "    i+=1"
   ]
  },
  {
   "cell_type": "markdown",
   "id": "c3680f5f-a132-450a-b183-3602ae05e28e",
   "metadata": {},
   "source": [
    "Enunciado\n",
    "\n",
    "Peça ao usuário para digitar um número e imprima o fatorial de n."
   ]
  },
  {
   "cell_type": "code",
   "execution_count": null,
   "id": "7742aa3d-be1c-4a98-81d1-070eeae0ca36",
   "metadata": {},
   "outputs": [],
   "source": []
  },
  {
   "cell_type": "markdown",
   "id": "f81dd612-1412-4418-a851-6dad78f04400",
   "metadata": {},
   "source": [
    "Exercício While Loop\n",
    "\n",
    "Enunciado\n",
    "\n",
    "Faça um script que peça para um usuário digitar um número e que só finaliza quando o usuário digitar 0."
   ]
  },
  {
   "cell_type": "code",
   "execution_count": 4,
   "id": "53a77c41-486e-456b-8d0d-4b6a023c3af1",
   "metadata": {},
   "outputs": [
    {
     "name": "stdin",
     "output_type": "stream",
     "text": [
      "Digite um número:  1\n",
      "Digite um número:  2\n",
      "Digite um número:  3\n",
      "Digite um número:  4\n",
      "Digite um número:  0\n"
     ]
    }
   ],
   "source": [
    "n=1\n",
    "while n != 0:\n",
    "    n = int(input('Digite um número: '))"
   ]
  },
  {
   "cell_type": "markdown",
   "id": "72a23d5b-e7ee-4701-b4e1-b2ea344c7b86",
   "metadata": {},
   "source": [
    "Exercício LC | Estruturas Condicionais - Complementar\n",
    "\n",
    "Enunciado\n",
    "\n",
    "Escreva um programa que peça a nota de 3 provas de um aluno e verifique se ele passou ou não de ano.\n",
    "\n",
    "Obs.: O aluno irá passar de ano se sua média for maior que 6."
   ]
  },
  {
   "cell_type": "code",
   "execution_count": 16,
   "id": "2da488ba-6dd2-4548-86e8-7de6317a6bea",
   "metadata": {},
   "outputs": [
    {
     "name": "stdin",
     "output_type": "stream",
     "text": [
      "Digite a nota da primeira prova:  6\n",
      "Digite a nota da segunda prova:  6\n",
      "Digite a nota da terceira prova:  6\n"
     ]
    },
    {
     "name": "stdout",
     "output_type": "stream",
     "text": [
      "Infelizmente você foi reprovado. Sua média final foi de 6.0.\n"
     ]
    }
   ],
   "source": [
    "n1 = float(input('Digite a nota da primeira prova: '))\n",
    "n2 = float(input('Digite a nota da segunda prova: '))\n",
    "n3 = float(input('Digite a nota da terceira prova: '))\n",
    "\n",
    "med = (n1+n2+n3)/3\n",
    "\n",
    "if med > 6:\n",
    "    print(f'Parabéns! Você foi aprovado com média final de {round(med,1)}.')\n",
    "elif 0<med<=6:\n",
    "    print(f'Infelizmente você foi reprovado. Sua média final foi de {round(med,1)}.')"
   ]
  },
  {
   "cell_type": "markdown",
   "id": "5f635d00-80a8-4106-9873-254ed79f78b2",
   "metadata": {},
   "source": [
    "Exercício Controle de Fluxo em Python\n",
    "\n",
    "Enunciado\n",
    "\n",
    "Faça um programa que leia dois números e informe o maior deles."
   ]
  },
  {
   "cell_type": "code",
   "execution_count": 16,
   "id": "fe4e27ea-d30e-48c3-b175-4632b0010122",
   "metadata": {},
   "outputs": [
    {
     "name": "stdin",
     "output_type": "stream",
     "text": [
      "Digite o primeiro número:  -231.1\n",
      "Digite o segundo número:  -231.2\n"
     ]
    },
    {
     "name": "stdout",
     "output_type": "stream",
     "text": [
      "-231.1\n"
     ]
    }
   ],
   "source": [
    "n1 = float(input('Digite o primeiro número: '))\n",
    "n2 = float(input('Digite o segundo número: '))\n",
    "maior = max(n1,n2)\n",
    "print(maior)"
   ]
  },
  {
   "cell_type": "markdown",
   "id": "cdfb91b0-3324-4856-ade1-8ed8ebdc21dd",
   "metadata": {},
   "source": [
    "Enunciado\n",
    "\n",
    "Faça um código que leia um número e informe se ele é par ou ímpar."
   ]
  },
  {
   "cell_type": "code",
   "execution_count": 13,
   "id": "bcc0043a-332f-4e66-a8f3-3796b0c8cfc6",
   "metadata": {},
   "outputs": [
    {
     "name": "stdin",
     "output_type": "stream",
     "text": [
      "Digite o número a ser analisado:  18297368217622\n"
     ]
    },
    {
     "name": "stdout",
     "output_type": "stream",
     "text": [
      "O número 18297368217622 é par.\n"
     ]
    }
   ],
   "source": [
    "n = int(input('Digite o número a ser analisado: '))\n",
    "if n%2 ==0:\n",
    "    print(f'O número {n} é par.')\n",
    "else:\n",
    "    print(f'O número {n} é ímpar.')"
   ]
  },
  {
   "cell_type": "markdown",
   "id": "3d05f285-980f-431d-93e2-caba4d8decca",
   "metadata": {},
   "source": [
    "Enunciado\n",
    "\n",
    "Faça um programa que receba 3 notas de prova de um aluno, calcule a média e diga se ele foi aprovado ou reprovado. A média para aprovação é de pelo menos 6 (aprovado se média maior ou igual a 6)."
   ]
  },
  {
   "cell_type": "code",
   "execution_count": 17,
   "id": "b28d578c-541c-44bd-8f6f-717e672bfb50",
   "metadata": {},
   "outputs": [
    {
     "name": "stdin",
     "output_type": "stream",
     "text": [
      "Digite a nota da primeira prova:  6\n",
      "Digite a nota da segunda prova:  6\n",
      "Digite a nota da terceira prova:  6\n"
     ]
    },
    {
     "name": "stdout",
     "output_type": "stream",
     "text": [
      "Parabéns! Você foi aprovado com média final de 6.0.\n"
     ]
    }
   ],
   "source": [
    "n1 = float(input('Digite a nota da primeira prova: '))\n",
    "n2 = float(input('Digite a nota da segunda prova: '))\n",
    "n3 = float(input('Digite a nota da terceira prova: '))\n",
    "\n",
    "med = (n1+n2+n3)/3\n",
    "\n",
    "if med >= 6:\n",
    "    print(f'Parabéns! Você foi aprovado com média final de {round(med,1)}.')\n",
    "elif 0<med<6:\n",
    "    print(f'Infelizmente você foi reprovado. Sua média final foi de {round(med,1)}.')"
   ]
  },
  {
   "cell_type": "markdown",
   "id": "2fccab56-3c47-4be5-96d4-121e78a0a512",
   "metadata": {},
   "source": [
    "Enunciado\n",
    "\n",
    "Uma empresa irá aplicar um reajuste nos salários de seus funcionários de acordo com as seguintes regras:\n",
    "\n",
    "Salário até R$2800,00 (incluindo): aumento de 20%;\n",
    "\n",
    "Salários entre R 2800,00 e R$7000,00: aumento de 15%;\n",
    "\n",
    "Salários entre R 7000,00 e R$15000,00: aumento de 10%;\n",
    "\n",
    "Salários de R$15000,00 em diante: aumento de 5%.\n",
    "\n",
    "Dado o salário de um funcionário, informe: o salário antes do reajuste; o percentual de aumento aplicado; o valor do aumento e o novo salário."
   ]
  },
  {
   "cell_type": "code",
   "execution_count": 18,
   "id": "75c582fa-0e20-4da6-ba68-c4f057c628fa",
   "metadata": {},
   "outputs": [
    {
     "name": "stdin",
     "output_type": "stream",
     "text": [
      "Informe o salário do funcionário:  7001\n"
     ]
    },
    {
     "name": "stdout",
     "output_type": "stream",
     "text": [
      "O salário antes do reajuste é: 7001.0\n",
      "O percentual de aumento é: 20.0%\n",
      "O valor do aumento é: 1400.2\n",
      "O salário depois do reajuste é: 8401.2\n"
     ]
    }
   ],
   "source": [
    "s = float(input('Informe o salário do funcionário: '))\n",
    "\n",
    "if s >=2800:\n",
    "    r = 0.2\n",
    "elif 2800<s<=7000:\n",
    "    r = 0.15\n",
    "elif 7000<s<=15000:\n",
    "    r= 0.1\n",
    "elif s>15000:\n",
    "    r=0.05\n",
    "\n",
    "v = s*r\n",
    "ns = s+v\n",
    "\n",
    "print(f'O salário antes do reajuste é: {s} reais.')\n",
    "print(f'O percentual de aumento é: {r*100}%.')\n",
    "print(f'O valor do aumento é: {v} reais.')\n",
    "print(f'O salário depois do reajuste é: {ns} reais.')"
   ]
  },
  {
   "cell_type": "code",
   "execution_count": null,
   "id": "a60f0689-fa35-4e43-af85-db0448b518a3",
   "metadata": {},
   "outputs": [],
   "source": []
  }
 ],
 "metadata": {
  "kernelspec": {
   "display_name": "Python 3 (ipykernel)",
   "language": "python",
   "name": "python3"
  },
  "language_info": {
   "codemirror_mode": {
    "name": "ipython",
    "version": 3
   },
   "file_extension": ".py",
   "mimetype": "text/x-python",
   "name": "python",
   "nbconvert_exporter": "python",
   "pygments_lexer": "ipython3",
   "version": "3.9.7"
  }
 },
 "nbformat": 4,
 "nbformat_minor": 5
}
