{
 "cells": [
  {
   "cell_type": "markdown",
   "id": "755209c2-b19c-41ab-acac-ddb0e9571ac0",
   "metadata": {},
   "source": [
    "Enunciado\n",
    "Gerador de senha\n",
    "\n",
    "Escreva uma função que gere uma senha aleatória para o usuário. O programa deve perguntar para o usuário quantas letras e quantos números desejará nessa senha, e a senha retornada deve ter aleatoriamente letras maiúsculas e minúsculas. A ordem entre letras e números não precisa ser aleatória.\n",
    "\n",
    "Como dica utilize o código dado"
   ]
  },
  {
   "cell_type": "code",
   "execution_count": 1,
   "id": "f92f46ad-7ded-4281-bb80-c73baf416796",
   "metadata": {},
   "outputs": [
    {
     "data": {
      "text/plain": [
       "0.25885649766437313"
      ]
     },
     "execution_count": 1,
     "metadata": {},
     "output_type": "execute_result"
    }
   ],
   "source": [
    "import random\n",
    "\n",
    "num = random.randint(0, 5) # número aleatório entre 0 e 5.\n",
    "\n",
    "random.random() #retorna um float aleatorio entre 0 e 1"
   ]
  },
  {
   "cell_type": "markdown",
   "id": "5d5c7813-1410-47fa-884a-a13ac8d1fb25",
   "metadata": {},
   "source": [
    "Enunciado\n",
    "Remove Divisíveis\n",
    "\n",
    "Faça uma função que recebe uma lista com inteiros e devolva a lista sem os números divisíveis por 2 e/ou por 5. Exemplo:"
   ]
  },
  {
   "cell_type": "code",
   "execution_count": null,
   "id": "743ad1eb-9d0a-4956-807f-bbb024be3573",
   "metadata": {},
   "outputs": [],
   "source": [
    "def remove_divisiveis(lista)\n",
    "    i=1\n",
    "    while i < len(lista):\n",
    "        if lista[i] %\n",
    "        i += 1ZxcC "
   ]
  }
 ],
 "metadata": {
  "kernelspec": {
   "display_name": "Python 3 (ipykernel)",
   "language": "python",
   "name": "python3"
  },
  "language_info": {
   "codemirror_mode": {
    "name": "ipython",
    "version": 3
   },
   "file_extension": ".py",
   "mimetype": "text/x-python",
   "name": "python",
   "nbconvert_exporter": "python",
   "pygments_lexer": "ipython3",
   "version": "3.9.7"
  }
 },
 "nbformat": 4,
 "nbformat_minor": 5
}
