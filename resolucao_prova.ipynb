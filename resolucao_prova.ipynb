{
 "cells": [
  {
   "cell_type": "markdown",
   "id": "2bc0d6e5",
   "metadata": {},
   "source": [
    "#### 1 - Escreva uma função que gere uma senha aleatória para o usuário. O programa deve perguntar para o usuário quantas letras e quantos números desejará nessa senha, e a senha retornada deve ter aleatoriamente letras maiúsculas e minúsculas. A ordem entre letras e números não precisa ser aleatória."
   ]
  },
  {
   "cell_type": "code",
   "execution_count": 1,
   "id": "2529fc89",
   "metadata": {},
   "outputs": [],
   "source": [
    "import random"
   ]
  },
  {
   "cell_type": "code",
   "execution_count": 2,
   "id": "98a731ef",
   "metadata": {},
   "outputs": [],
   "source": [
    "def senha_aleatoria(qtd_letras, qtd_numeros):\n",
    "    \n",
    "    if type(qtd_letras) == int and type(qtd_numeros) == int:\n",
    "        \n",
    "        # Nao ficou muito elegante essa parte\n",
    "        letras = ['a', 'b', 'c', 'd', 'e', 'f', 'g',  'h', 'i', 'j',  'k', 'l', 'm',\n",
    "                  'n', 'o', 'p',  'q', 'r', 's',  't', 'u', 'v', 'x', 'w', 'y', 'z']\n",
    "\n",
    "        senha = ''\n",
    "\n",
    "        i = 0\n",
    "\n",
    "        while i < qtd_letras:\n",
    "            maiuscula = random.randint(0, 1)\n",
    "            \n",
    "            if maiuscula == 1:\n",
    "                senha += letras[random.randint(0, len(letras) - 1)].upper()\n",
    "            else:\n",
    "                senha += letras[random.randint(0, len(letras) - 1)]\n",
    "                \n",
    "            i += 1\n",
    "\n",
    "        j = 0\n",
    "\n",
    "        while j < qtd_numeros:\n",
    "            senha += str(random.randint(0, 9))\n",
    "            \n",
    "            j += 1\n",
    "\n",
    "        return senha\n",
    "        \n",
    "    else:\n",
    "        return 'Quantidades de caracteres devem ser números inteiros'\n"
   ]
  },
  {
   "cell_type": "code",
   "execution_count": 3,
   "id": "cb09ceee",
   "metadata": {},
   "outputs": [
    {
     "data": {
      "text/plain": [
       "'AJ5175631'"
      ]
     },
     "execution_count": 3,
     "metadata": {},
     "output_type": "execute_result"
    }
   ],
   "source": [
    "senha_aleatoria(2, 7)"
   ]
  },
  {
   "cell_type": "markdown",
   "id": "4e6d1d15",
   "metadata": {},
   "source": [
    "#### 2 - Faça uma função que funcione como o jogo \"pedra, papel, tesoura\", onde um usuário joga contra o computador. A escolha do usuário é fornecida através do comando input(), enquanto que a do computador é escolhida aleatoriamente. O programa deve perguntar se o usuário quer jogar novamente.\n",
    "\n",
    "#### Regras do jogo:\n",
    "\n",
    "* papel vence pedra\n",
    "\n",
    "* pedra vence tesoura\n",
    "\n",
    "* tesoura vence papel"
   ]
  },
  {
   "cell_type": "code",
   "execution_count": 4,
   "id": "cd052db9",
   "metadata": {},
   "outputs": [],
   "source": [
    "def jokenpo():\n",
    "    \n",
    "    opcoes = ['pedra', 'papel', 'tesoura']\n",
    "    \n",
    "    escolha_usuario = input('Escolha pedra, papel ou tesoura: ')\n",
    "    \n",
    "    while escolha_usuario.lower() not in opcoes:\n",
    "        print('Opcao inválida')\n",
    "        escolha_usuario = input('Escolha pedra, papel ou tesoura: ')\n",
    "        \n",
    "    escolha_pc = opcoes[random.randint(0, 2)]\n",
    "\n",
    "    if opcoes.index(escolha_usuario) - opcoes.index(escolha_pc) == 0:\n",
    "        print(f'Voce escolheu {escolha_usuario} e o computador {escolha_pc}. Voces empataram.')\n",
    "    elif opcoes.index(escolha_usuario) - opcoes.index(escolha_pc) in [1, -2]:\n",
    "        print(f'Voce escolheu {escolha_usuario} e o computador {escolha_pc}. Voce ganhou.')\n",
    "    else:\n",
    "        print(f'Voce escolheu {escolha_usuario} e o computador {escolha_pc}. Voce perdeu.')\n",
    "        \n",
    "        "
   ]
  },
  {
   "cell_type": "code",
   "execution_count": 5,
   "id": "82e63c0b",
   "metadata": {},
   "outputs": [
    {
     "name": "stdout",
     "output_type": "stream",
     "text": [
      "Escolha pedra, papel ou tesoura: tesoura\n",
      "Voce escolheu tesoura e o computador pedra. Voce perdeu.\n"
     ]
    }
   ],
   "source": [
    "jokenpo()"
   ]
  },
  {
   "cell_type": "markdown",
   "id": "9ca35e80",
   "metadata": {},
   "source": [
    "#### 3 - Faça uma função que recebe uma lista com inteiros e devolva a lista sem os números divisíveis por 2 e/ou por 5."
   ]
  },
  {
   "cell_type": "code",
   "execution_count": 6,
   "id": "1efccc1b",
   "metadata": {},
   "outputs": [],
   "source": [
    "def remove_divisiveis(lista):\n",
    "    \n",
    "    lista_nova = []\n",
    "    \n",
    "    i = 0\n",
    "    \n",
    "    while i < len(lista):\n",
    "        \n",
    "        if lista[i]%2 != 0 and lista[i]%5 != 0:\n",
    "            lista_nova.append(lista[i])\n",
    "            \n",
    "        i += 1\n",
    "        \n",
    "    return lista_nova"
   ]
  },
  {
   "cell_type": "code",
   "execution_count": 7,
   "id": "c14ba629",
   "metadata": {},
   "outputs": [
    {
     "data": {
      "text/plain": [
       "[1, 7, 1, 63, 7, 17, 71]"
      ]
     },
     "execution_count": 7,
     "metadata": {},
     "output_type": "execute_result"
    }
   ],
   "source": [
    "remove_divisiveis([1, 4, 7, 1, 90, 63, 7, 17, 86, 71])"
   ]
  },
  {
   "cell_type": "markdown",
   "id": "54d117fe",
   "metadata": {},
   "source": [
    "#### 4 - Faça uma função que some todos os inteiros de uma lista de N dimensões. "
   ]
  },
  {
   "cell_type": "code",
   "execution_count": 8,
   "id": "c2a4f2c5",
   "metadata": {},
   "outputs": [],
   "source": [
    "def soma_recursiva(lista):\n",
    "    \n",
    "    soma = 0\n",
    "\n",
    "    i = 0\n",
    "\n",
    "    while i < len(lista):\n",
    "\n",
    "        if type(lista[i]) == int:\n",
    "            soma += lista[i]\n",
    "        else:\n",
    "            soma += soma_recursiva(lista[i])\n",
    "            \n",
    "        i += 1\n",
    "        \n",
    "        \n",
    "    return soma\n",
    "        "
   ]
  },
  {
   "cell_type": "code",
   "execution_count": 9,
   "id": "fc6329a8",
   "metadata": {},
   "outputs": [
    {
     "data": {
      "text/plain": [
       "51"
      ]
     },
     "execution_count": 9,
     "metadata": {},
     "output_type": "execute_result"
    }
   ],
   "source": [
    "lista_ex = [1, 10, [4, 7, [4, 9], 0], [1, [3, [5]]], 7]\n",
    "soma_recursiva(lista_ex)"
   ]
  },
  {
   "cell_type": "markdown",
   "id": "d21d5d73",
   "metadata": {},
   "source": [
    "#### 5 - Faça uma função que receba uma lista de N dimensões e um valor e remova este valor de toda a estrutura, incluindo as sublistas."
   ]
  },
  {
   "cell_type": "code",
   "execution_count": 10,
   "id": "0ee32063",
   "metadata": {},
   "outputs": [],
   "source": [
    "def apaga_valor(lista, valor):\n",
    "\n",
    "    lista_nova = []\n",
    "    \n",
    "    i = 0\n",
    "\n",
    "    while i < len(lista):\n",
    "\n",
    "        if type(lista[i]) == int and lista[i] != valor:\n",
    "            lista_nova.append(lista[i])\n",
    "        elif type(lista[i]) == list:\n",
    "            lista_nova.append(apaga_valor(lista[i], valor))\n",
    "            \n",
    "        i += 1\n",
    "        \n",
    "        \n",
    "    return lista_nova\n",
    "        "
   ]
  },
  {
   "cell_type": "code",
   "execution_count": 11,
   "id": "3dc10f76",
   "metadata": {},
   "outputs": [
    {
     "data": {
      "text/plain": [
       "[1, 10, [7, [9], 0], [1, [3, [5]]], 7]"
      ]
     },
     "execution_count": 11,
     "metadata": {},
     "output_type": "execute_result"
    }
   ],
   "source": [
    "lista_ex = [1, 10, [4, 7, [4, 9], 0], 4, [1, [3, [5]], 4], 7]\n",
    "valor_ex = 4\n",
    "apaga_valor(lista_ex, valor_ex)"
   ]
  }
 ],
 "metadata": {
  "kernelspec": {
   "display_name": "Python 3 (ipykernel)",
   "language": "python",
   "name": "python3"
  },
  "language_info": {
   "codemirror_mode": {
    "name": "ipython",
    "version": 3
   },
   "file_extension": ".py",
   "mimetype": "text/x-python",
   "name": "python",
   "nbconvert_exporter": "python",
   "pygments_lexer": "ipython3",
   "version": "3.9.7"
  }
 },
 "nbformat": 4,
 "nbformat_minor": 5
}
